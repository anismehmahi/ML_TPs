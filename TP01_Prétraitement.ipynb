{
  "cells": [
    {
      "cell_type": "markdown",
      "id": "64ff0eca",
      "metadata": {
        "id": "64ff0eca"
      },
      "source": [
        "# 2CSSID-TP01. Prétraitement"
      ]
    },
    {
      "cell_type": "code",
      "execution_count": null,
      "id": "7e9c5947",
      "metadata": {
        "id": "7e9c5947"
      },
      "outputs": [],
      "source": [
        "import numpy as np\n",
        "import pandas as pd\n",
        "import matplotlib.pyplot as plt\n",
        "%matplotlib inline"
      ]
    },
    {
      "cell_type": "code",
      "execution_count": null,
      "id": "38726b10",
      "metadata": {
        "id": "38726b10"
      },
      "outputs": [],
      "source": [
        "from typing import Tuple"
      ]
    },
    {
      "cell_type": "markdown",
      "id": "e3118323",
      "metadata": {
        "id": "e3118323"
      },
      "source": [
        "## I. Réalisation des algorithmes\n",
        "\n",
        "Cette partie sert à améliorer la compréhension des algorithmes de préparation de données vus en\n",
        "cours en les implémentant à partir de zéro. Pour ce faire, on va utiliser la bibliothèque numpy qui\n",
        "est utile dans les calcules surtout matricielles.\n",
        "\n",
        "### I.1. Normalisation\n",
        "\n",
        "Ici, on va réaliser les deux fonctions de nomalisation : standard et min-max.\n",
        "On va prendre une matrice $X[N, M]$ de $N$ échantillons et $M$ colonnes.\n",
        "La normalisation standard d'une colonne $j$ peut être décrite comme : \n",
        "$$standard(X_j) = \\frac{X_j - \\mu(X_j)}{\\sigma(X_j)}$$\n",
        "La nomalisation min-max d'une colonne $j$ peut être décrite comme : \n",
        "$$minmax(X_j) = \\frac{X_j - min(X_j)}{max(X_j) - min(X_j)}$$\n"
      ]
    },
    {
      "cell_type": "code",
      "execution_count": null,
      "id": "4e80e66e",
      "metadata": {
        "id": "4e80e66e",
        "outputId": "b2857684-9f81-4d7a-fa3b-d134b3c2bf54"
      },
      "outputs": [
        {
          "data": {
            "text/plain": [
              "(array([4. , 3. , 0.5]),\n",
              " array([1.87082869, 2.        , 0.5       ]),\n",
              " array([[ 1.60356745,  1.        , -1.        ],\n",
              "        [-1.06904497, -1.        ,  1.        ],\n",
              "        [-0.53452248,  1.        , -1.        ],\n",
              "        [ 0.        , -1.        ,  1.        ]]))"
            ]
          },
          "execution_count": 84,
          "metadata": {},
          "output_type": "execute_result"
        }
      ],
      "source": [
        "# Entrée : la matrice des données (N échantillons X  M caractéristiques)\n",
        "# Sortie : vecteur de M moyennes, vecteur de M écart-types, une matrice normalisée\n",
        "def norm_std(X: np.ndarray) -> Tuple[np.ndarray, np.ndarray, np.ndarray]:\n",
        "\n",
        "    #axis 0 is par columns\n",
        "    v_moy = X.mean(axis=0)\n",
        "    v_ecart_type = np.sqrt(X.var(axis=0))\n",
        "\n",
        "    return v_moy, v_ecart_type, (X - v_moy) / v_ecart_type\n",
        "\n",
        "\n",
        "#=====================================================================\n",
        "# TEST UNITAIRE\n",
        "#=====================================================================\n",
        "# (array([4. , 3. , 0.5]),\n",
        "#  array([1.87082869, 2.        , 0.5       ]),\n",
        "#  array([[ 1.60356745,  1.        , -1.        ],\n",
        "#         [-1.06904497, -1.        ,  1.        ],\n",
        "#         [-0.53452248,  1.        , -1.        ],\n",
        "#         [ 0.        , -1.        ,  1.        ]]))\n",
        "#---------------------------------------------------------------------\n",
        "\n",
        "X = np.array([\n",
        "    [7, 5, 0],\n",
        "    [2, 1, 1],\n",
        "    [3, 5, 0],\n",
        "    [4, 1, 1],\n",
        "])\n",
        "\n",
        "norm_std(X)"
      ]
    },
    {
      "cell_type": "code",
      "execution_count": null,
      "id": "82371ce8",
      "metadata": {
        "id": "82371ce8",
        "outputId": "5ac0261c-966f-480d-ab37-fe1a9495e45b"
      },
      "outputs": [
        {
          "data": {
            "text/plain": [
              "(array([7, 5, 1]),\n",
              " array([2, 1, 0]),\n",
              " array([[1. , 1. , 0. ],\n",
              "        [0. , 0. , 1. ],\n",
              "        [0.2, 1. , 0. ],\n",
              "        [0.4, 0. , 1. ]]))"
            ]
          },
          "execution_count": 85,
          "metadata": {},
          "output_type": "execute_result"
        }
      ],
      "source": [
        "# Entrée : la matrice des données (N échantillons X  M caractéristiques)\n",
        "# Sortie : vecteur de M max, vecteur de M min, une matrice normalisée\n",
        "def norm_minmax(X: np.ndarray) -> Tuple[np.ndarray, np.ndarray, np.ndarray]:\n",
        "\n",
        "    #axis 0 is par columns\n",
        "    v_min = X.min(axis=0)\n",
        "    v_max = X.max(axis=0)\n",
        "\n",
        "    return v_max, v_min, (X - v_min) / (v_max - v_min)\n",
        "\n",
        "#=====================================================================\n",
        "# TEST UNITAIRE\n",
        "#=====================================================================\n",
        "# (array([7, 5, 1]),\n",
        "#  array([2, 1, 0]),\n",
        "#  array([[1. , 1. , 0. ],\n",
        "#         [0. , 0. , 1. ],\n",
        "#         [0.2, 1. , 0. ],\n",
        "#         [0.4, 0. , 1. ]]))\n",
        "#---------------------------------------------------------------------\n",
        "\n",
        "X = np.array([\n",
        "    [7, 5, 0],\n",
        "    [2, 1, 1],\n",
        "    [3, 5, 0],\n",
        "    [4, 1, 1],\n",
        "])\n",
        "\n",
        "norm_minmax(X)"
      ]
    },
    {
      "cell_type": "markdown",
      "id": "65c342e5",
      "metadata": {
        "id": "65c342e5"
      },
      "source": [
        "### I.2. Encodage One-Hot\n",
        "\n",
        "Etant donné un vecteur $A[N]$ représentant une caractéristique nominale donnée, on veut encoder les valeurs en utilisant One-Hot. Pour faciliter la tâche, on vous donne l'algorithme détaillé : \n",
        "1. Trouver les valeurs uniques dans le vecteur $A$ ; on appele ça : un vocabulaire $V$\n",
        "1. Créer une matrice $X[N, |V|] en recopiant le vecteur $V$ $N$ fois. Dans python, on peut recopier un vecteur en utilisant l'instruction : [V] * N\n",
        "1. Comparer l'égalité entre chaque ligne de $A$ et chaque ligne (qui est un vecteur) de $X$.\n",
        "1. Transformer les booléens vers des entiers"
      ]
    },
    {
      "cell_type": "code",
      "execution_count": null,
      "id": "fa61401a",
      "metadata": {
        "id": "fa61401a",
        "outputId": "518e9a75-98dc-40cc-ef9e-e6eda55b61f7"
      },
      "outputs": [
        {
          "data": {
            "text/plain": [
              "(array(['COLD', 'HOT', 'MILD'], dtype='<U4'),\n",
              " array([[0, 1, 0],\n",
              "        [0, 0, 1],\n",
              "        [1, 0, 0],\n",
              "        [0, 1, 0],\n",
              "        [0, 0, 1]]))"
            ]
          },
          "execution_count": 86,
          "metadata": {},
          "output_type": "execute_result"
        }
      ],
      "source": [
        "# Entrée : un vecteur d'une caractéristique (N échantillons)\n",
        "# Sortie : vecteur du vocabulaire V, matrice N X |V|\n",
        "\n",
        "# Version utilisant l'algorithme proposé avec python\n",
        "def one_hot(A: np.ndarray) -> Tuple[np.ndarray, np.ndarray]:\n",
        "    V = np.unique(A)\n",
        "    X = [V]*len(A)\n",
        "\n",
        "    X_bool = np.array([Xi == Ai for Xi,Ai in zip(X,A)])\n",
        "    return V, X_bool.astype(int)\n",
        "\n",
        "# Version utilisant les fonctions utilitaires de NumPy\n",
        "def one_hot_np(A: np.ndarray) -> Tuple[np.ndarray, np.ndarray]:\n",
        "    V = np.unique(A)\n",
        "\n",
        "    return V, (A[:, np.newaxis] == V).astype(int)\n",
        "\n",
        "#=====================================================================\n",
        "# TEST UNITAIRE\n",
        "#=====================================================================\n",
        "# (array(['COLD', 'HOT', 'MILD'], dtype='<U4'),\n",
        "#  array([[0, 1, 0],\n",
        "#         [0, 0, 1],\n",
        "#         [1, 0, 0],\n",
        "#         [0, 1, 0],\n",
        "#         [0, 0, 1]]))\n",
        "#---------------------------------------------------------------------\n",
        "\n",
        "A = np.array(['HOT', 'MILD', 'COLD', 'HOT', 'MILD'])\n",
        "\n",
        "# version utilisant l'algorithme proposé avec python\n",
        "one_hot(A)\n",
        "\n",
        "# version utilisant les fonctions utilitaires de NumPy\n",
        "#one_hot_np(A)"
      ]
    },
    {
      "cell_type": "markdown",
      "id": "829514ed",
      "metadata": {
        "id": "829514ed"
      },
      "source": [
        "### I.3. Binarisation\n",
        "\n",
        "Etant donné un vecteur $A[N]$ représentant une caractéristique numérique donnée, on veut encoder les valeurs en 0 ou 1 selon un seuil $s$.\n",
        "La binarization d'un élément $A_i$ est donnée par :\n",
        "$$A_i' = \\begin{cases}\n",
        "1 & \\text{si } A_i \\ge s\\\\\n",
        "0 & \\text{sinon}\\\\\n",
        "\\end{cases}$$"
      ]
    },
    {
      "cell_type": "code",
      "execution_count": null,
      "id": "38db2cf8",
      "metadata": {
        "id": "38db2cf8",
        "outputId": "cf492c41-fe09-4b33-82ab-3e82b64cece8"
      },
      "outputs": [
        {
          "data": {
            "text/plain": [
              "array([1, 0, 0, 0, 1, 1])"
            ]
          },
          "execution_count": 87,
          "metadata": {},
          "output_type": "execute_result"
        }
      ],
      "source": [
        "# Entrée : un vecteur d'une caractéristique (N échantillons), un nombre\n",
        "# Sortie : un vecteur binarisé (N échantillons)\n",
        "def bin(A: np.ndarray, seuil: float) -> np.ndarray:\n",
        "    return (A >= seuil).astype(int)\n",
        "\n",
        "#=====================================================================\n",
        "# TEST UNITAIRE\n",
        "#=====================================================================\n",
        "# array([1, 0, 0, 0, 1, 1])\n",
        "#---------------------------------------------------------------------\n",
        "\n",
        "A = np.array([5, 2, 1, -1, 6, 4])\n",
        "\n",
        "bin(A, 4)"
      ]
    },
    {
      "cell_type": "markdown",
      "id": "308a1df5",
      "metadata": {
        "id": "308a1df5"
      },
      "source": [
        "## II. Application et analyse\n",
        "\n",
        "Cette partie sert à appliquer les algorithmes, modifier les paramètres et analyser les résultats.\n",
        "\n",
        "### II.1. Lecture des données\n",
        "\n",
        "On va lire 4 fichiers : \n",
        "- un fichier CSV avec des colonnes séparées par des virgules\n",
        "- un fichier CSV avec des colonnes séparées par des point-virgules\n",
        "- un fichier Sqlite \n",
        "- un fichier XML"
      ]
    },
    {
      "cell_type": "code",
      "execution_count": null,
      "id": "e67db19a",
      "metadata": {
        "id": "e67db19a",
        "outputId": "bab22bc8-5f4c-45a0-9dfe-736fd42ca639"
      },
      "outputs": [
        {
          "data": {
            "text/html": [
              "<div>\n",
              "<style scoped>\n",
              "    .dataframe tbody tr th:only-of-type {\n",
              "        vertical-align: middle;\n",
              "    }\n",
              "\n",
              "    .dataframe tbody tr th {\n",
              "        vertical-align: top;\n",
              "    }\n",
              "\n",
              "    .dataframe thead th {\n",
              "        text-align: right;\n",
              "    }\n",
              "</style>\n",
              "<table border=\"1\" class=\"dataframe\">\n",
              "  <thead>\n",
              "    <tr style=\"text-align: right;\">\n",
              "      <th></th>\n",
              "      <th>age</th>\n",
              "      <th>workclass</th>\n",
              "      <th>education</th>\n",
              "      <th>Marital-status</th>\n",
              "      <th>occupation</th>\n",
              "      <th>sex</th>\n",
              "      <th>Hours-per-week</th>\n",
              "      <th>class</th>\n",
              "    </tr>\n",
              "  </thead>\n",
              "  <tbody>\n",
              "    <tr>\n",
              "      <th>0</th>\n",
              "      <td>39.0</td>\n",
              "      <td>State-gov</td>\n",
              "      <td>Bachelors</td>\n",
              "      <td>Never-married</td>\n",
              "      <td>Adm-clerical</td>\n",
              "      <td>Male</td>\n",
              "      <td>40</td>\n",
              "      <td>&lt;=50K</td>\n",
              "    </tr>\n",
              "    <tr>\n",
              "      <th>1</th>\n",
              "      <td>50.0</td>\n",
              "      <td>Self-emp-not-inc</td>\n",
              "      <td>Bachelors</td>\n",
              "      <td>Married-civ-spouse</td>\n",
              "      <td>Exec-managerial</td>\n",
              "      <td>Male</td>\n",
              "      <td>13</td>\n",
              "      <td>&lt;=50K</td>\n",
              "    </tr>\n",
              "    <tr>\n",
              "      <th>2</th>\n",
              "      <td>38.0</td>\n",
              "      <td>Private</td>\n",
              "      <td>HS-grad</td>\n",
              "      <td>Divorced</td>\n",
              "      <td>Handlers-cleaners</td>\n",
              "      <td>Male</td>\n",
              "      <td>40</td>\n",
              "      <td>&lt;=50K</td>\n",
              "    </tr>\n",
              "    <tr>\n",
              "      <th>3</th>\n",
              "      <td>53.0</td>\n",
              "      <td>Private</td>\n",
              "      <td>11th</td>\n",
              "      <td>NaN</td>\n",
              "      <td>Handlers-cleaners</td>\n",
              "      <td>Male</td>\n",
              "      <td>40</td>\n",
              "      <td>&lt;=50K</td>\n",
              "    </tr>\n",
              "    <tr>\n",
              "      <th>4</th>\n",
              "      <td>28.0</td>\n",
              "      <td>Private</td>\n",
              "      <td>Bachelors</td>\n",
              "      <td>Married-civ-spouse</td>\n",
              "      <td>Prof-specialty</td>\n",
              "      <td>Female</td>\n",
              "      <td>40</td>\n",
              "      <td>&lt;=50K</td>\n",
              "    </tr>\n",
              "    <tr>\n",
              "      <th>5</th>\n",
              "      <td>37.0</td>\n",
              "      <td>Private</td>\n",
              "      <td>Masters</td>\n",
              "      <td>Married-civ-spouse</td>\n",
              "      <td>Exec-managerial</td>\n",
              "      <td>Female</td>\n",
              "      <td>40</td>\n",
              "      <td>&lt;=50K</td>\n",
              "    </tr>\n",
              "    <tr>\n",
              "      <th>6</th>\n",
              "      <td>49.0</td>\n",
              "      <td>Private</td>\n",
              "      <td>9th</td>\n",
              "      <td>Married-spouse-absent</td>\n",
              "      <td>Other-service</td>\n",
              "      <td>Female</td>\n",
              "      <td>16</td>\n",
              "      <td>&lt;=50K</td>\n",
              "    </tr>\n",
              "    <tr>\n",
              "      <th>7</th>\n",
              "      <td>52.0</td>\n",
              "      <td>Self-emp-not-inc</td>\n",
              "      <td>HS-grad</td>\n",
              "      <td>Married-civ-spouse</td>\n",
              "      <td>Exec-managerial</td>\n",
              "      <td>Male</td>\n",
              "      <td>45</td>\n",
              "      <td>&gt;50K</td>\n",
              "    </tr>\n",
              "    <tr>\n",
              "      <th>8</th>\n",
              "      <td>31.0</td>\n",
              "      <td>Private</td>\n",
              "      <td>Masters</td>\n",
              "      <td>Never-married</td>\n",
              "      <td>Prof-specialty</td>\n",
              "      <td>Female</td>\n",
              "      <td>50</td>\n",
              "      <td>&gt;50K</td>\n",
              "    </tr>\n",
              "    <tr>\n",
              "      <th>9</th>\n",
              "      <td>42.0</td>\n",
              "      <td>Private</td>\n",
              "      <td>Bachelors</td>\n",
              "      <td>Married-civ-spouse</td>\n",
              "      <td>Exec-managerial</td>\n",
              "      <td>Male</td>\n",
              "      <td>40</td>\n",
              "      <td>&gt;50K</td>\n",
              "    </tr>\n",
              "  </tbody>\n",
              "</table>\n",
              "</div>"
            ],
            "text/plain": [
              "    age         workclass  education         Marital-status  \\\n",
              "0  39.0         State-gov  Bachelors          Never-married   \n",
              "1  50.0  Self-emp-not-inc  Bachelors     Married-civ-spouse   \n",
              "2  38.0           Private    HS-grad               Divorced   \n",
              "3  53.0           Private       11th                    NaN   \n",
              "4  28.0           Private  Bachelors     Married-civ-spouse   \n",
              "5  37.0           Private    Masters     Married-civ-spouse   \n",
              "6  49.0           Private        9th  Married-spouse-absent   \n",
              "7  52.0  Self-emp-not-inc    HS-grad     Married-civ-spouse   \n",
              "8  31.0           Private    Masters          Never-married   \n",
              "9  42.0           Private  Bachelors     Married-civ-spouse   \n",
              "\n",
              "          occupation     sex  Hours-per-week  class  \n",
              "0       Adm-clerical    Male              40  <=50K  \n",
              "1    Exec-managerial    Male              13  <=50K  \n",
              "2  Handlers-cleaners    Male              40  <=50K  \n",
              "3  Handlers-cleaners    Male              40  <=50K  \n",
              "4     Prof-specialty  Female              40  <=50K  \n",
              "5    Exec-managerial  Female              40  <=50K  \n",
              "6      Other-service  Female              16  <=50K  \n",
              "7    Exec-managerial    Male              45   >50K  \n",
              "8     Prof-specialty  Female              50   >50K  \n",
              "9    Exec-managerial    Male              40   >50K  "
            ]
          },
          "execution_count": 88,
          "metadata": {},
          "output_type": "execute_result"
        }
      ],
      "source": [
        "adult1 = pd.read_csv(\"data/adult1.csv\", skipinitialspace=True)\n",
        "adult1.head(10)"
      ]
    },
    {
      "cell_type": "code",
      "execution_count": null,
      "id": "890485a8",
      "metadata": {
        "id": "890485a8",
        "outputId": "114cbc7e-d224-44b9-e09b-68eaaba27257"
      },
      "outputs": [
        {
          "data": {
            "text/html": [
              "<div>\n",
              "<style scoped>\n",
              "    .dataframe tbody tr th:only-of-type {\n",
              "        vertical-align: middle;\n",
              "    }\n",
              "\n",
              "    .dataframe tbody tr th {\n",
              "        vertical-align: top;\n",
              "    }\n",
              "\n",
              "    .dataframe thead th {\n",
              "        text-align: right;\n",
              "    }\n",
              "</style>\n",
              "<table border=\"1\" class=\"dataframe\">\n",
              "  <thead>\n",
              "    <tr style=\"text-align: right;\">\n",
              "      <th></th>\n",
              "      <th>class</th>\n",
              "      <th>age</th>\n",
              "      <th>sex</th>\n",
              "      <th>workclass</th>\n",
              "      <th>education</th>\n",
              "      <th>hours-per-week</th>\n",
              "      <th>marital-status</th>\n",
              "    </tr>\n",
              "  </thead>\n",
              "  <tbody>\n",
              "    <tr>\n",
              "      <th>0</th>\n",
              "      <td>N</td>\n",
              "      <td>25</td>\n",
              "      <td>F</td>\n",
              "      <td>Private</td>\n",
              "      <td>Some-college</td>\n",
              "      <td>40</td>\n",
              "      <td>Married-civ-spouse</td>\n",
              "    </tr>\n",
              "    <tr>\n",
              "      <th>1</th>\n",
              "      <td>N</td>\n",
              "      <td>18</td>\n",
              "      <td>F</td>\n",
              "      <td>Private</td>\n",
              "      <td>HS-grad</td>\n",
              "      <td>30</td>\n",
              "      <td>Never-married</td>\n",
              "    </tr>\n",
              "    <tr>\n",
              "      <th>2</th>\n",
              "      <td>Y</td>\n",
              "      <td>47</td>\n",
              "      <td>F</td>\n",
              "      <td>Private, Prof-school</td>\n",
              "      <td>60</td>\n",
              "      <td>Married-civ-spouse</td>\n",
              "      <td>NaN</td>\n",
              "    </tr>\n",
              "    <tr>\n",
              "      <th>3</th>\n",
              "      <td>Y</td>\n",
              "      <td>50</td>\n",
              "      <td>M</td>\n",
              "      <td>Federal-gov</td>\n",
              "      <td>Bachelors</td>\n",
              "      <td>55</td>\n",
              "      <td>Divorced</td>\n",
              "    </tr>\n",
              "    <tr>\n",
              "      <th>4</th>\n",
              "      <td>N</td>\n",
              "      <td>47</td>\n",
              "      <td>M</td>\n",
              "      <td>Self-emp-inc</td>\n",
              "      <td>HS-grad</td>\n",
              "      <td>60</td>\n",
              "      <td>Divorced</td>\n",
              "    </tr>\n",
              "    <tr>\n",
              "      <th>5</th>\n",
              "      <td>Y</td>\n",
              "      <td>43</td>\n",
              "      <td>M</td>\n",
              "      <td>Private</td>\n",
              "      <td>Some-college</td>\n",
              "      <td>40</td>\n",
              "      <td>Married-civ-spouse</td>\n",
              "    </tr>\n",
              "    <tr>\n",
              "      <th>6</th>\n",
              "      <td>N</td>\n",
              "      <td>46</td>\n",
              "      <td>M</td>\n",
              "      <td>Private</td>\n",
              "      <td>5th-6th</td>\n",
              "      <td>40</td>\n",
              "      <td>Married-civ-spouse</td>\n",
              "    </tr>\n",
              "    <tr>\n",
              "      <th>7</th>\n",
              "      <td>N</td>\n",
              "      <td>35</td>\n",
              "      <td>M</td>\n",
              "      <td>Private</td>\n",
              "      <td>Assoc-voc</td>\n",
              "      <td>40</td>\n",
              "      <td>Married-civ-spouse</td>\n",
              "    </tr>\n",
              "    <tr>\n",
              "      <th>8</th>\n",
              "      <td>N</td>\n",
              "      <td>41</td>\n",
              "      <td>M</td>\n",
              "      <td>Private</td>\n",
              "      <td>HS-grad</td>\n",
              "      <td>48</td>\n",
              "      <td>Married-civ-spouse</td>\n",
              "    </tr>\n",
              "    <tr>\n",
              "      <th>9</th>\n",
              "      <td>N,30</td>\n",
              "      <td>M</td>\n",
              "      <td>Private, HS-grad</td>\n",
              "      <td>40</td>\n",
              "      <td>Married-civ-spouse</td>\n",
              "      <td>NaN</td>\n",
              "      <td>NaN</td>\n",
              "    </tr>\n",
              "  </tbody>\n",
              "</table>\n",
              "</div>"
            ],
            "text/plain": [
              "  class age               sex             workclass           education  \\\n",
              "0     N  25                 F               Private        Some-college   \n",
              "1     N  18                 F               Private             HS-grad   \n",
              "2     Y  47                 F  Private, Prof-school                  60   \n",
              "3     Y  50                 M           Federal-gov           Bachelors   \n",
              "4     N  47                 M          Self-emp-inc             HS-grad   \n",
              "5     Y  43                 M               Private        Some-college   \n",
              "6     N  46                 M               Private             5th-6th   \n",
              "7     N  35                 M               Private           Assoc-voc   \n",
              "8     N  41                 M               Private             HS-grad   \n",
              "9  N,30   M  Private, HS-grad                    40  Married-civ-spouse   \n",
              "\n",
              "       hours-per-week      marital-status  \n",
              "0                  40  Married-civ-spouse  \n",
              "1                  30       Never-married  \n",
              "2  Married-civ-spouse                 NaN  \n",
              "3                  55            Divorced  \n",
              "4                  60            Divorced  \n",
              "5                  40  Married-civ-spouse  \n",
              "6                  40  Married-civ-spouse  \n",
              "7                  40  Married-civ-spouse  \n",
              "8                  48  Married-civ-spouse  \n",
              "9                 NaN                 NaN  "
            ]
          },
          "execution_count": 89,
          "metadata": {},
          "output_type": "execute_result"
        }
      ],
      "source": [
        "noms = [\"class\", \"age\", \"sex\", \"workclass\", \"education\", \"hours-per-week\", \"marital-status\"]\n",
        "adult2 = pd.read_csv(\"data/adult2.csv\", skipinitialspace=True, sep=\";\", header=None, names=noms)\n",
        "adult2.head(10)"
      ]
    },
    {
      "cell_type": "code",
      "execution_count": null,
      "id": "af026330",
      "metadata": {
        "id": "af026330",
        "outputId": "410b14c8-2df3-45c2-fb69-dde8d6fa2c5f"
      },
      "outputs": [
        {
          "data": {
            "text/html": [
              "<div>\n",
              "<style scoped>\n",
              "    .dataframe tbody tr th:only-of-type {\n",
              "        vertical-align: middle;\n",
              "    }\n",
              "\n",
              "    .dataframe tbody tr th {\n",
              "        vertical-align: top;\n",
              "    }\n",
              "\n",
              "    .dataframe thead th {\n",
              "        text-align: right;\n",
              "    }\n",
              "</style>\n",
              "<table border=\"1\" class=\"dataframe\">\n",
              "  <thead>\n",
              "    <tr style=\"text-align: right;\">\n",
              "      <th></th>\n",
              "      <th>num</th>\n",
              "      <th>age</th>\n",
              "      <th>workclass</th>\n",
              "      <th>education</th>\n",
              "      <th>marital-status</th>\n",
              "      <th>sex</th>\n",
              "      <th>hours-per-day</th>\n",
              "      <th>class</th>\n",
              "    </tr>\n",
              "  </thead>\n",
              "  <tbody>\n",
              "    <tr>\n",
              "      <th>0</th>\n",
              "      <td>1</td>\n",
              "      <td>76</td>\n",
              "      <td>Private</td>\n",
              "      <td>Masters</td>\n",
              "      <td>married</td>\n",
              "      <td>M</td>\n",
              "      <td>8.0</td>\n",
              "      <td>Y</td>\n",
              "    </tr>\n",
              "    <tr>\n",
              "      <th>1</th>\n",
              "      <td>2</td>\n",
              "      <td>44</td>\n",
              "      <td>Private</td>\n",
              "      <td>Bachelors</td>\n",
              "      <td>married</td>\n",
              "      <td>M</td>\n",
              "      <td>12.0</td>\n",
              "      <td>Y</td>\n",
              "    </tr>\n",
              "    <tr>\n",
              "      <th>2</th>\n",
              "      <td>3</td>\n",
              "      <td>47</td>\n",
              "      <td>Self-emp-not-inc</td>\n",
              "      <td>Masters</td>\n",
              "      <td>single</td>\n",
              "      <td>F</td>\n",
              "      <td>10.0</td>\n",
              "      <td>N</td>\n",
              "    </tr>\n",
              "    <tr>\n",
              "      <th>3</th>\n",
              "      <td>4</td>\n",
              "      <td>20</td>\n",
              "      <td>Private</td>\n",
              "      <td>Some-college</td>\n",
              "      <td>single</td>\n",
              "      <td>F</td>\n",
              "      <td>8.0</td>\n",
              "      <td>N</td>\n",
              "    </tr>\n",
              "    <tr>\n",
              "      <th>4</th>\n",
              "      <td>5</td>\n",
              "      <td>29</td>\n",
              "      <td>Private</td>\n",
              "      <td>HS-grad</td>\n",
              "      <td>single</td>\n",
              "      <td>M</td>\n",
              "      <td>8.0</td>\n",
              "      <td>N</td>\n",
              "    </tr>\n",
              "    <tr>\n",
              "      <th>5</th>\n",
              "      <td>6</td>\n",
              "      <td>32</td>\n",
              "      <td>Self-emp-inc</td>\n",
              "      <td>HS-grad</td>\n",
              "      <td>married</td>\n",
              "      <td>M</td>\n",
              "      <td>8.0</td>\n",
              "      <td>Y</td>\n",
              "    </tr>\n",
              "    <tr>\n",
              "      <th>6</th>\n",
              "      <td>7</td>\n",
              "      <td>17</td>\n",
              "      <td>NaN</td>\n",
              "      <td>10th</td>\n",
              "      <td>single</td>\n",
              "      <td>F</td>\n",
              "      <td>6.4</td>\n",
              "      <td>N</td>\n",
              "    </tr>\n",
              "    <tr>\n",
              "      <th>7</th>\n",
              "      <td>8</td>\n",
              "      <td>30</td>\n",
              "      <td>Private</td>\n",
              "      <td>11th</td>\n",
              "      <td>single</td>\n",
              "      <td>M</td>\n",
              "      <td>8.0</td>\n",
              "      <td>N</td>\n",
              "    </tr>\n",
              "    <tr>\n",
              "      <th>8</th>\n",
              "      <td>9</td>\n",
              "      <td>31</td>\n",
              "      <td>Local-gov</td>\n",
              "      <td>HS-grad</td>\n",
              "      <td>single</td>\n",
              "      <td>F</td>\n",
              "      <td>8.0</td>\n",
              "      <td>N</td>\n",
              "    </tr>\n",
              "    <tr>\n",
              "      <th>9</th>\n",
              "      <td>10</td>\n",
              "      <td>42</td>\n",
              "      <td>Private</td>\n",
              "      <td>HS-grad</td>\n",
              "      <td>married</td>\n",
              "      <td>M</td>\n",
              "      <td>8.0</td>\n",
              "      <td>N</td>\n",
              "    </tr>\n",
              "  </tbody>\n",
              "</table>\n",
              "</div>"
            ],
            "text/plain": [
              "   num  age         workclass     education marital-status sex  hours-per-day  \\\n",
              "0    1   76           Private       Masters        married   M            8.0   \n",
              "1    2   44           Private     Bachelors        married   M           12.0   \n",
              "2    3   47  Self-emp-not-inc       Masters         single   F           10.0   \n",
              "3    4   20           Private  Some-college         single   F            8.0   \n",
              "4    5   29           Private       HS-grad         single   M            8.0   \n",
              "5    6   32      Self-emp-inc       HS-grad        married   M            8.0   \n",
              "6    7   17               NaN          10th         single   F            6.4   \n",
              "7    8   30           Private          11th         single   M            8.0   \n",
              "8    9   31         Local-gov       HS-grad         single   F            8.0   \n",
              "9   10   42           Private       HS-grad        married   M            8.0   \n",
              "\n",
              "  class  \n",
              "0     Y  \n",
              "1     Y  \n",
              "2     N  \n",
              "3     N  \n",
              "4     N  \n",
              "5     Y  \n",
              "6     N  \n",
              "7     N  \n",
              "8     N  \n",
              "9     N  "
            ]
          },
          "execution_count": 90,
          "metadata": {},
          "output_type": "execute_result"
        }
      ],
      "source": [
        "import sqlite3\n",
        "#établir la connexion avec la base de données\n",
        "con = sqlite3.connect(\"data/adult3.db\")\n",
        "#récupérer le résultat d'une réquête SQL sur cette connexion\n",
        "adult3 = pd.read_sql_query(\"SELECT * FROM income\", con)\n",
        "\n",
        "#remplacer les valeurs \"?\" par NaN de numpy\n",
        "adult3 = adult3.replace('?', np.nan)\n",
        "\n",
        "adult3.head(10)"
      ]
    },
    {
      "cell_type": "code",
      "execution_count": null,
      "id": "7095cb63",
      "metadata": {
        "id": "7095cb63",
        "outputId": "403bd39e-7e8d-46fd-ddb8-8163e0c3decf"
      },
      "outputs": [
        {
          "name": "stdout",
          "output_type": "stream",
          "text": [
            "Requirement already satisfied: lxml in c:\\users\\walid\\appdata\\local\\packages\\pythonsoftwarefoundation.python.3.9_qbz5n2kfra8p0\\localcache\\local-packages\\python39\\site-packages (4.6.5)\n",
            "\n",
            "[notice] A new release of pip available: 22.2 -> 22.3\n",
            "[notice] To update, run: C:\\Users\\walid\\AppData\\Local\\Microsoft\\WindowsApps\\PythonSoftwareFoundation.Python.3.9_qbz5n2kfra8p0\\python.exe -m pip install --upgrade pip\n",
            "Note: you may need to restart the kernel to use updated packages.\n"
          ]
        }
      ],
      "source": [
        "%pip install lxml"
      ]
    },
    {
      "cell_type": "code",
      "execution_count": null,
      "id": "45b43b42",
      "metadata": {
        "id": "45b43b42",
        "outputId": "db561c31-c28e-4b39-9650-d38111325083"
      },
      "outputs": [
        {
          "data": {
            "text/html": [
              "<div>\n",
              "<style scoped>\n",
              "    .dataframe tbody tr th:only-of-type {\n",
              "        vertical-align: middle;\n",
              "    }\n",
              "\n",
              "    .dataframe tbody tr th {\n",
              "        vertical-align: top;\n",
              "    }\n",
              "\n",
              "    .dataframe thead th {\n",
              "        text-align: right;\n",
              "    }\n",
              "</style>\n",
              "<table border=\"1\" class=\"dataframe\">\n",
              "  <thead>\n",
              "    <tr style=\"text-align: right;\">\n",
              "      <th></th>\n",
              "      <th>id</th>\n",
              "      <th>age</th>\n",
              "      <th>workclass</th>\n",
              "      <th>education</th>\n",
              "      <th>marital-status</th>\n",
              "      <th>sex</th>\n",
              "      <th>hours-per-week</th>\n",
              "      <th>class</th>\n",
              "    </tr>\n",
              "  </thead>\n",
              "  <tbody>\n",
              "    <tr>\n",
              "      <th>0</th>\n",
              "      <td>52</td>\n",
              "      <td>47</td>\n",
              "      <td>Local-gov</td>\n",
              "      <td>Some-college</td>\n",
              "      <td>divorced</td>\n",
              "      <td>F</td>\n",
              "      <td>38</td>\n",
              "      <td>N</td>\n",
              "    </tr>\n",
              "    <tr>\n",
              "      <th>1</th>\n",
              "      <td>53</td>\n",
              "      <td>34</td>\n",
              "      <td>Private</td>\n",
              "      <td>HS-grad</td>\n",
              "      <td>single</td>\n",
              "      <td>F</td>\n",
              "      <td>40</td>\n",
              "      <td>N</td>\n",
              "    </tr>\n",
              "    <tr>\n",
              "      <th>2</th>\n",
              "      <td>54</td>\n",
              "      <td>33</td>\n",
              "      <td>Private</td>\n",
              "      <td>Bachelors</td>\n",
              "      <td>single</td>\n",
              "      <td>F</td>\n",
              "      <td>40</td>\n",
              "      <td>N</td>\n",
              "    </tr>\n",
              "    <tr>\n",
              "      <th>3</th>\n",
              "      <td>55</td>\n",
              "      <td>21</td>\n",
              "      <td>Private</td>\n",
              "      <td>HS-grad</td>\n",
              "      <td>single</td>\n",
              "      <td>M</td>\n",
              "      <td>35</td>\n",
              "      <td>N</td>\n",
              "    </tr>\n",
              "    <tr>\n",
              "      <th>4</th>\n",
              "      <td>56</td>\n",
              "      <td>52</td>\n",
              "      <td>NaN</td>\n",
              "      <td>HS-grad</td>\n",
              "      <td>divorced</td>\n",
              "      <td>M</td>\n",
              "      <td>45</td>\n",
              "      <td>Y</td>\n",
              "    </tr>\n",
              "    <tr>\n",
              "      <th>5</th>\n",
              "      <td>57</td>\n",
              "      <td>48</td>\n",
              "      <td>Private</td>\n",
              "      <td>HS-grad</td>\n",
              "      <td>married</td>\n",
              "      <td>M</td>\n",
              "      <td>46</td>\n",
              "      <td>N</td>\n",
              "    </tr>\n",
              "    <tr>\n",
              "      <th>6</th>\n",
              "      <td>58</td>\n",
              "      <td>23</td>\n",
              "      <td>Private</td>\n",
              "      <td>Bachelors</td>\n",
              "      <td>single</td>\n",
              "      <td>M</td>\n",
              "      <td>40</td>\n",
              "      <td>N</td>\n",
              "    </tr>\n",
              "    <tr>\n",
              "      <th>7</th>\n",
              "      <td>59</td>\n",
              "      <td>71</td>\n",
              "      <td>Self-emp-not-inc</td>\n",
              "      <td>Some-college</td>\n",
              "      <td>divorced</td>\n",
              "      <td>M</td>\n",
              "      <td>2</td>\n",
              "      <td>N</td>\n",
              "    </tr>\n",
              "    <tr>\n",
              "      <th>8</th>\n",
              "      <td>60</td>\n",
              "      <td>29</td>\n",
              "      <td>Private</td>\n",
              "      <td>HS-grad</td>\n",
              "      <td>divorced</td>\n",
              "      <td>M</td>\n",
              "      <td>60</td>\n",
              "      <td>N</td>\n",
              "    </tr>\n",
              "    <tr>\n",
              "      <th>9</th>\n",
              "      <td>61</td>\n",
              "      <td>42</td>\n",
              "      <td>Private</td>\n",
              "      <td>Bachelors</td>\n",
              "      <td>divorced</td>\n",
              "      <td>M</td>\n",
              "      <td>50</td>\n",
              "      <td>N</td>\n",
              "    </tr>\n",
              "  </tbody>\n",
              "</table>\n",
              "</div>"
            ],
            "text/plain": [
              "   id age         workclass     education marital-status sex hours-per-week  \\\n",
              "0  52  47         Local-gov  Some-college       divorced   F             38   \n",
              "1  53  34           Private       HS-grad         single   F             40   \n",
              "2  54  33           Private     Bachelors         single   F             40   \n",
              "3  55  21           Private       HS-grad         single   M             35   \n",
              "4  56  52               NaN       HS-grad       divorced   M             45   \n",
              "5  57  48           Private       HS-grad        married   M             46   \n",
              "6  58  23           Private     Bachelors         single   M             40   \n",
              "7  59  71  Self-emp-not-inc  Some-college       divorced   M              2   \n",
              "8  60  29           Private       HS-grad       divorced   M             60   \n",
              "9  61  42           Private     Bachelors       divorced   M             50   \n",
              "\n",
              "  class  \n",
              "0     N  \n",
              "1     N  \n",
              "2     N  \n",
              "3     N  \n",
              "4     Y  \n",
              "5     N  \n",
              "6     N  \n",
              "7     N  \n",
              "8     N  \n",
              "9     N  "
            ]
          },
          "execution_count": 92,
          "metadata": {},
          "output_type": "execute_result"
        }
      ],
      "source": [
        "from lxml import etree\n",
        "#créer le parser et spécifier qu'il doit valider le DTD\n",
        "parser = etree.XMLParser(dtd_validation=True)\n",
        "#analyser le fichier XML en utilisant ce parser\n",
        "arbre = etree.parse(\"data/adult4.xml\", parser)\n",
        "\n",
        "def valeur_noeud(noeud):\n",
        "    return noeud.text if noeud is not None else np.nan\n",
        "\n",
        "noms2 = [\"id\", \"age\", \"workclass\", \"education\", \"marital-status\", \"sex\", \"hours-per-week\", \"class\"]\n",
        "adult4 = pd.DataFrame(columns=noms2)\n",
        "\n",
        "for candidat in arbre.getroot():\n",
        "    idi = candidat.get(\"id\")\n",
        "    age = valeur_noeud(candidat.find(\"age\"))\n",
        "    workclass = valeur_noeud(candidat.find(\"workclass\"))\n",
        "    education = valeur_noeud(candidat.find(\"education\"))\n",
        "    marital = valeur_noeud(candidat.find(\"marital-status\"))\n",
        "    sex = valeur_noeud(candidat.find(\"sex\"))\n",
        "    hours = valeur_noeud(candidat.find(\"hours-per-week\"))\n",
        "    klass = valeur_noeud(candidat.find(\"class\"))\n",
        "\n",
        "    adult4 = pd.concat(\n",
        "        [adult4, \n",
        "         pd.Series([idi, age, workclass, education, marital, sex, hours, klass],index=noms2).to_frame().T\n",
        "        ], axis=0, ignore_index=True)\n",
        "adult4.head(10)"
      ]
    },
    {
      "cell_type": "markdown",
      "id": "7b0af2bd",
      "metadata": {
        "id": "7b0af2bd"
      },
      "source": [
        "**Analyse** \n",
        "- Que remarquez-vous concernant l'ordre, le nombre et les noms des caractéristiques dans les 4 datasets ?\n",
        "- Que remarquez-vous à propos des valeurs dans les 4 tables ?\n",
        "\n",
        "**Réponse**\n",
        "\n",
        "d1: age,\tworkclass,\teducation,\tMarital-status,\toccupation,\t    sex,\t            Hours-per-week,\tclass,\n",
        "\n",
        "d2: class,\tage,\t    sex,        workclass,\t    education,\t    hours-per-week, \tmarital-status,\n",
        "\n",
        "d3: num,\tage,        workclass,\teducation,\t    marital-status,\tsex,\t            hours-per-day,\tclass,\n",
        "\n",
        "d4: id,\t    age,        workclass,\teducation,\t    marital-status,\tsex,\t            hours-per-week,\tclass,\n",
        "\n",
        "\n",
        "\n",
        "- L'ordre des caractéristiqus n'est pas le même pour les quatres datasets, le nombre est différent (8 pour d1, 7 pour d2, 8 pour d3, 8 pour d4), les noms se ressemblent sauf pour la spécification l'unité (pour hours-per-unit), et la majuscule au debut du nom des caractéristiques (Hours-per-week and Martial-status)\n",
        "\n",
        "- Les valeurs sont differentes a cause de l'unité de mesure (echèlle) (days , weeks pour Hours-per-unit) ou le type de representation (float , int pour age), ou les valeurs des catégories (M-Male, F-Female pour sex par exemple, et les differentes valeurs de marital-status, class qui représentent différemment les mêmes concepts: Married-civ-spouse, Married-spouse-absent et Married-AF-spouse representent \"married\"), ce phénomène s'appelle conflits de valeurs.\n",
        "\n",
        "    De plus, on remarque l'existence de valeurs manquantes representées par NaN, et l'utilisation d'un mauvais séparateur a causé certains decalages de valeurs entre les colonnes ( une virgule a la place d'un point virgule par exemple dans la 2eme ligne de adulte 2)"
      ]
    },
    {
      "cell_type": "markdown",
      "id": "564353be",
      "metadata": {
        "id": "564353be"
      },
      "source": [
        "### II.2. Intégration des données\n",
        "\n",
        "Dans cette section, on va appliquer des opérations sur les différentes tables. Vous devez à chaque fois figurer ce qu'on a fait et pourquoi."
      ]
    },
    {
      "cell_type": "code",
      "execution_count": null,
      "id": "37a11f6d",
      "metadata": {
        "id": "37a11f6d",
        "outputId": "85819cfb-7e5b-41d0-b972-7844f8c79485"
      },
      "outputs": [
        {
          "data": {
            "text/plain": [
              "['num',\n",
              " 'age',\n",
              " 'workclass',\n",
              " 'education',\n",
              " 'marital-status',\n",
              " 'sex',\n",
              " 'hours-per-day',\n",
              " 'class']"
            ]
          },
          "execution_count": 93,
          "metadata": {},
          "output_type": "execute_result"
        }
      ],
      "source": [
        "# Afficher les noms des colonnes de adult3\n",
        "list(adult3.columns)"
      ]
    },
    {
      "cell_type": "code",
      "execution_count": null,
      "id": "e2195b77",
      "metadata": {
        "id": "e2195b77",
        "outputId": "5f61889b-70c0-4a7e-9594-465b43d6b8a6"
      },
      "outputs": [
        {
          "data": {
            "text/plain": [
              "['id',\n",
              " 'age',\n",
              " 'workclass',\n",
              " 'education',\n",
              " 'marital-status',\n",
              " 'sex',\n",
              " 'hours-per-week',\n",
              " 'class']"
            ]
          },
          "execution_count": 94,
          "metadata": {},
          "output_type": "execute_result"
        }
      ],
      "source": [
        "adult3.rename(columns={\"num\": \"id\", \"hours-per-day\": \"hours-per-week\"}, inplace=True)\n",
        "adult1.rename(columns={\"Hours-per-week\": \"hours-per-week\", \"Marital-status\": \"marital-status\"}, inplace=True)\n",
        "\n",
        "# Afficher les noms des colonnes de adult3\n",
        "list(adult3.columns)"
      ]
    },
    {
      "cell_type": "markdown",
      "id": "300358d6",
      "metadata": {
        "id": "300358d6"
      },
      "source": [
        "**Analyse** \n",
        "- Quelle opération a-t-on appliqué ?\n",
        "- Pourquoi ? (Quel est l'intérêt ?)\n",
        "- Est-ce qu'en appliquant cette opération, on aura certains problèmes ?\n",
        "\n",
        "**Réponse**\n",
        "- L'operation de renommage de caractéristiques (variables)\n",
        "- Pour intégrer les schémas: identifier les différents noms des mêmes données réelles, pour ne pas dupliquer la même variable avec des noms differents.\n",
        "- Oui, pour les variables quantitatives: on aura le problème d'unités différentes (echelles différentes), et pour les variables qualitatives: on aura des noms différents pour des classes qui modélisent le même concept."
      ]
    },
    {
      "cell_type": "code",
      "execution_count": null,
      "id": "b82ab545",
      "metadata": {
        "id": "b82ab545",
        "outputId": "e87f9666-783e-4363-942b-ada2a06f1b88"
      },
      "outputs": [
        {
          "data": {
            "text/plain": [
              "['age',\n",
              " 'workclass',\n",
              " 'education',\n",
              " 'marital-status',\n",
              " 'sex',\n",
              " 'hours-per-week',\n",
              " 'class',\n",
              " 'id']"
            ]
          },
          "execution_count": 95,
          "metadata": {},
          "output_type": "execute_result"
        }
      ],
      "source": [
        "ordre = [\"age\", \"workclass\", \"education\", \"marital-status\", \"sex\", \"hours-per-week\", \"class\"]\n",
        "adult1 = adult1.reindex(ordre + [\"occupation\"], axis=1)\n",
        "adult2 = adult2.reindex(ordre, axis=1)\n",
        "adult3 = adult3.reindex(ordre + [\"id\"], axis=1)\n",
        "adult4 = adult4.reindex(ordre + [\"id\"], axis=1)\n",
        "\n",
        "# Afficher les noms des colonnes de adult3\n",
        "list(adult3.columns)"
      ]
    },
    {
      "cell_type": "markdown",
      "id": "88e2ceb1",
      "metadata": {
        "id": "88e2ceb1"
      },
      "source": [
        "**Analyse** \n",
        "- Quelle opération a-t-on appliqué ?\n",
        "- Pourquoi ? (Quel est l'intérêt ?)\n",
        "\n",
        "**Réponse**\n",
        "- Réordonnacement des colonnes des differentes tables pour suivre le même ordre pour les colonnes communes, plus les colonnes supplémentaires a la fin\n",
        "- Pour superposer directement les colonnes ayant le meme nom lors de l'integration de données, et ajouter les colonnes spécifiques a un tableau donné. Ceci permet de concatener plus facilement les données dans la nouvelle table sans un traitement supplementaire."
      ]
    },
    {
      "cell_type": "code",
      "execution_count": null,
      "id": "4f3e6068",
      "metadata": {
        "id": "4f3e6068",
        "outputId": "bcf72172-3aa1-4354-910e-6bf400313250"
      },
      "outputs": [
        {
          "data": {
            "text/html": [
              "<div>\n",
              "<style scoped>\n",
              "    .dataframe tbody tr th:only-of-type {\n",
              "        vertical-align: middle;\n",
              "    }\n",
              "\n",
              "    .dataframe tbody tr th {\n",
              "        vertical-align: top;\n",
              "    }\n",
              "\n",
              "    .dataframe thead th {\n",
              "        text-align: right;\n",
              "    }\n",
              "</style>\n",
              "<table border=\"1\" class=\"dataframe\">\n",
              "  <thead>\n",
              "    <tr style=\"text-align: right;\">\n",
              "      <th></th>\n",
              "      <th>age</th>\n",
              "      <th>workclass</th>\n",
              "      <th>education</th>\n",
              "      <th>marital-status</th>\n",
              "      <th>sex</th>\n",
              "      <th>hours-per-week</th>\n",
              "      <th>class</th>\n",
              "      <th>id</th>\n",
              "    </tr>\n",
              "  </thead>\n",
              "  <tbody>\n",
              "    <tr>\n",
              "      <th>0</th>\n",
              "      <td>76</td>\n",
              "      <td>Private</td>\n",
              "      <td>Masters</td>\n",
              "      <td>married</td>\n",
              "      <td>M</td>\n",
              "      <td>8.0</td>\n",
              "      <td>Y</td>\n",
              "      <td>1</td>\n",
              "    </tr>\n",
              "    <tr>\n",
              "      <th>1</th>\n",
              "      <td>44</td>\n",
              "      <td>Private</td>\n",
              "      <td>Bachelors</td>\n",
              "      <td>married</td>\n",
              "      <td>M</td>\n",
              "      <td>12.0</td>\n",
              "      <td>Y</td>\n",
              "      <td>2</td>\n",
              "    </tr>\n",
              "  </tbody>\n",
              "</table>\n",
              "</div>"
            ],
            "text/plain": [
              "   age workclass  education marital-status sex  hours-per-week class  id\n",
              "0   76   Private    Masters        married   M             8.0     Y   1\n",
              "1   44   Private  Bachelors        married   M            12.0     Y   2"
            ]
          },
          "execution_count": 96,
          "metadata": {},
          "output_type": "execute_result"
        }
      ],
      "source": [
        "# Afficher les deux premières lignes de la table adult3\n",
        "adult3.head(2)"
      ]
    },
    {
      "cell_type": "code",
      "execution_count": null,
      "id": "c4688f99",
      "metadata": {
        "id": "c4688f99",
        "outputId": "59451443-973f-4fb5-ed94-ced52897880f"
      },
      "outputs": [
        {
          "data": {
            "text/html": [
              "<div>\n",
              "<style scoped>\n",
              "    .dataframe tbody tr th:only-of-type {\n",
              "        vertical-align: middle;\n",
              "    }\n",
              "\n",
              "    .dataframe tbody tr th {\n",
              "        vertical-align: top;\n",
              "    }\n",
              "\n",
              "    .dataframe thead th {\n",
              "        text-align: right;\n",
              "    }\n",
              "</style>\n",
              "<table border=\"1\" class=\"dataframe\">\n",
              "  <thead>\n",
              "    <tr style=\"text-align: right;\">\n",
              "      <th></th>\n",
              "      <th>age</th>\n",
              "      <th>workclass</th>\n",
              "      <th>education</th>\n",
              "      <th>marital-status</th>\n",
              "      <th>sex</th>\n",
              "      <th>hours-per-week</th>\n",
              "      <th>class</th>\n",
              "      <th>id</th>\n",
              "    </tr>\n",
              "  </thead>\n",
              "  <tbody>\n",
              "    <tr>\n",
              "      <th>0</th>\n",
              "      <td>76</td>\n",
              "      <td>Private</td>\n",
              "      <td>Masters</td>\n",
              "      <td>married</td>\n",
              "      <td>M</td>\n",
              "      <td>40.0</td>\n",
              "      <td>Y</td>\n",
              "      <td>1</td>\n",
              "    </tr>\n",
              "    <tr>\n",
              "      <th>1</th>\n",
              "      <td>44</td>\n",
              "      <td>Private</td>\n",
              "      <td>Bachelors</td>\n",
              "      <td>married</td>\n",
              "      <td>M</td>\n",
              "      <td>60.0</td>\n",
              "      <td>Y</td>\n",
              "      <td>2</td>\n",
              "    </tr>\n",
              "  </tbody>\n",
              "</table>\n",
              "</div>"
            ],
            "text/plain": [
              "   age workclass  education marital-status sex  hours-per-week class  id\n",
              "0   76   Private    Masters        married   M            40.0     Y   1\n",
              "1   44   Private  Bachelors        married   M            60.0     Y   2"
            ]
          },
          "execution_count": 97,
          "metadata": {},
          "output_type": "execute_result"
        }
      ],
      "source": [
        "adult3[\"hours-per-week\"] *= 5\n",
        "\n",
        "# Afficher les deux premières lignes de la table adult3\n",
        "adult3.head(2)"
      ]
    },
    {
      "cell_type": "markdown",
      "id": "5c02cd42",
      "metadata": {
        "id": "5c02cd42"
      },
      "source": [
        "**Analyse** \n",
        "- Quelle opération a-t-on appliqué ?\n",
        "- Pourquoi ? (Quel est l'intérêt ?)\n",
        "\n",
        "**Réponse**\n",
        "- Opération de mise à l'échelle (pour avoir la même unité). Pour ce cas, multiplier le nombre d'heures par jour fois 5 pour avoir le nombre d'heures par semaine.\n",
        "- Pour résoudre les conflits de valeurs: avoir la même unité (l'unifier) pour que la concaténation des données soit correcte."
      ]
    },
    {
      "cell_type": "code",
      "execution_count": null,
      "id": "28a335ae",
      "metadata": {
        "id": "28a335ae",
        "outputId": "0e74487f-15fa-4f4f-e72d-f3558fb16948"
      },
      "outputs": [
        {
          "data": {
            "text/html": [
              "<div>\n",
              "<style scoped>\n",
              "    .dataframe tbody tr th:only-of-type {\n",
              "        vertical-align: middle;\n",
              "    }\n",
              "\n",
              "    .dataframe tbody tr th {\n",
              "        vertical-align: top;\n",
              "    }\n",
              "\n",
              "    .dataframe thead th {\n",
              "        text-align: right;\n",
              "    }\n",
              "</style>\n",
              "<table border=\"1\" class=\"dataframe\">\n",
              "  <thead>\n",
              "    <tr style=\"text-align: right;\">\n",
              "      <th></th>\n",
              "      <th>age</th>\n",
              "      <th>workclass</th>\n",
              "      <th>education</th>\n",
              "      <th>marital-status</th>\n",
              "      <th>sex</th>\n",
              "      <th>hours-per-week</th>\n",
              "      <th>class</th>\n",
              "      <th>id</th>\n",
              "    </tr>\n",
              "  </thead>\n",
              "  <tbody>\n",
              "    <tr>\n",
              "      <th>0</th>\n",
              "      <td>76</td>\n",
              "      <td>Private</td>\n",
              "      <td>Masters</td>\n",
              "      <td>married</td>\n",
              "      <td>M</td>\n",
              "      <td>40.0</td>\n",
              "      <td>Y</td>\n",
              "      <td>1</td>\n",
              "    </tr>\n",
              "    <tr>\n",
              "      <th>1</th>\n",
              "      <td>44</td>\n",
              "      <td>Private</td>\n",
              "      <td>Bachelors</td>\n",
              "      <td>married</td>\n",
              "      <td>M</td>\n",
              "      <td>60.0</td>\n",
              "      <td>Y</td>\n",
              "      <td>2</td>\n",
              "    </tr>\n",
              "    <tr>\n",
              "      <th>2</th>\n",
              "      <td>47</td>\n",
              "      <td>Self-emp-not-inc</td>\n",
              "      <td>Masters</td>\n",
              "      <td>single</td>\n",
              "      <td>F</td>\n",
              "      <td>50.0</td>\n",
              "      <td>N</td>\n",
              "      <td>3</td>\n",
              "    </tr>\n",
              "    <tr>\n",
              "      <th>3</th>\n",
              "      <td>20</td>\n",
              "      <td>Private</td>\n",
              "      <td>Some-college</td>\n",
              "      <td>single</td>\n",
              "      <td>F</td>\n",
              "      <td>40.0</td>\n",
              "      <td>N</td>\n",
              "      <td>4</td>\n",
              "    </tr>\n",
              "    <tr>\n",
              "      <th>4</th>\n",
              "      <td>29</td>\n",
              "      <td>Private</td>\n",
              "      <td>HS-grad</td>\n",
              "      <td>single</td>\n",
              "      <td>M</td>\n",
              "      <td>40.0</td>\n",
              "      <td>N</td>\n",
              "      <td>5</td>\n",
              "    </tr>\n",
              "    <tr>\n",
              "      <th>5</th>\n",
              "      <td>32</td>\n",
              "      <td>Self-emp-inc</td>\n",
              "      <td>HS-grad</td>\n",
              "      <td>married</td>\n",
              "      <td>M</td>\n",
              "      <td>40.0</td>\n",
              "      <td>Y</td>\n",
              "      <td>6</td>\n",
              "    </tr>\n",
              "    <tr>\n",
              "      <th>6</th>\n",
              "      <td>17</td>\n",
              "      <td>NaN</td>\n",
              "      <td>10th</td>\n",
              "      <td>single</td>\n",
              "      <td>F</td>\n",
              "      <td>32.0</td>\n",
              "      <td>N</td>\n",
              "      <td>7</td>\n",
              "    </tr>\n",
              "    <tr>\n",
              "      <th>7</th>\n",
              "      <td>30</td>\n",
              "      <td>Private</td>\n",
              "      <td>11th</td>\n",
              "      <td>single</td>\n",
              "      <td>M</td>\n",
              "      <td>40.0</td>\n",
              "      <td>N</td>\n",
              "      <td>8</td>\n",
              "    </tr>\n",
              "    <tr>\n",
              "      <th>8</th>\n",
              "      <td>31</td>\n",
              "      <td>Local-gov</td>\n",
              "      <td>HS-grad</td>\n",
              "      <td>single</td>\n",
              "      <td>F</td>\n",
              "      <td>40.0</td>\n",
              "      <td>N</td>\n",
              "      <td>9</td>\n",
              "    </tr>\n",
              "    <tr>\n",
              "      <th>9</th>\n",
              "      <td>42</td>\n",
              "      <td>Private</td>\n",
              "      <td>HS-grad</td>\n",
              "      <td>married</td>\n",
              "      <td>M</td>\n",
              "      <td>40.0</td>\n",
              "      <td>N</td>\n",
              "      <td>10</td>\n",
              "    </tr>\n",
              "  </tbody>\n",
              "</table>\n",
              "</div>"
            ],
            "text/plain": [
              "  age         workclass     education marital-status sex hours-per-week class  \\\n",
              "0  76           Private       Masters        married   M           40.0     Y   \n",
              "1  44           Private     Bachelors        married   M           60.0     Y   \n",
              "2  47  Self-emp-not-inc       Masters         single   F           50.0     N   \n",
              "3  20           Private  Some-college         single   F           40.0     N   \n",
              "4  29           Private       HS-grad         single   M           40.0     N   \n",
              "5  32      Self-emp-inc       HS-grad        married   M           40.0     Y   \n",
              "6  17               NaN          10th         single   F           32.0     N   \n",
              "7  30           Private          11th         single   M           40.0     N   \n",
              "8  31         Local-gov       HS-grad         single   F           40.0     N   \n",
              "9  42           Private       HS-grad        married   M           40.0     N   \n",
              "\n",
              "   id  \n",
              "0   1  \n",
              "1   2  \n",
              "2   3  \n",
              "3   4  \n",
              "4   5  \n",
              "5   6  \n",
              "6   7  \n",
              "7   8  \n",
              "8   9  \n",
              "9  10  "
            ]
          },
          "execution_count": 98,
          "metadata": {},
          "output_type": "execute_result"
        }
      ],
      "source": [
        "adult34 = pd.concat([adult3, adult4], ignore_index=True)\n",
        "adult34.head(10)"
      ]
    },
    {
      "cell_type": "markdown",
      "id": "19e1551c",
      "metadata": {
        "id": "19e1551c"
      },
      "source": [
        "**Analyse** \n",
        "- Quelle opération a-t-on appliqué ?\n",
        "- Pourquoi ? (Quel est l'intérêt ?)\n",
        "\n",
        "**Réponse**\n",
        "- L'operation de concatenation\n",
        "- Pour combiner plusieurs sources de données et agrandir les datasets. (On regroupe les données dans un seul tableau pour faciliter toute analyse statistique sur ces dernières)"
      ]
    },
    {
      "cell_type": "code",
      "execution_count": null,
      "id": "582182ff",
      "metadata": {
        "id": "582182ff",
        "outputId": "0210e7b1-4c87-418c-a5d1-81cc6819c1be"
      },
      "outputs": [
        {
          "data": {
            "text/html": [
              "<div>\n",
              "<style scoped>\n",
              "    .dataframe tbody tr th:only-of-type {\n",
              "        vertical-align: middle;\n",
              "    }\n",
              "\n",
              "    .dataframe tbody tr th {\n",
              "        vertical-align: top;\n",
              "    }\n",
              "\n",
              "    .dataframe thead th {\n",
              "        text-align: right;\n",
              "    }\n",
              "</style>\n",
              "<table border=\"1\" class=\"dataframe\">\n",
              "  <thead>\n",
              "    <tr style=\"text-align: right;\">\n",
              "      <th></th>\n",
              "      <th>age</th>\n",
              "      <th>workclass</th>\n",
              "      <th>education</th>\n",
              "      <th>marital-status</th>\n",
              "      <th>sex</th>\n",
              "      <th>hours-per-week</th>\n",
              "      <th>class</th>\n",
              "      <th>id</th>\n",
              "    </tr>\n",
              "  </thead>\n",
              "  <tbody>\n",
              "    <tr>\n",
              "      <th>44</th>\n",
              "      <td>70</td>\n",
              "      <td>Private</td>\n",
              "      <td>Some-college</td>\n",
              "      <td>single</td>\n",
              "      <td>M</td>\n",
              "      <td>40.0</td>\n",
              "      <td>N</td>\n",
              "      <td>45</td>\n",
              "    </tr>\n",
              "    <tr>\n",
              "      <th>94</th>\n",
              "      <td>70</td>\n",
              "      <td>Private</td>\n",
              "      <td>Some-college</td>\n",
              "      <td>single</td>\n",
              "      <td>M</td>\n",
              "      <td>40</td>\n",
              "      <td>N</td>\n",
              "      <td>45</td>\n",
              "    </tr>\n",
              "    <tr>\n",
              "      <th>45</th>\n",
              "      <td>31</td>\n",
              "      <td>Private</td>\n",
              "      <td>HS-grad</td>\n",
              "      <td>single</td>\n",
              "      <td>F</td>\n",
              "      <td>30.0</td>\n",
              "      <td>N</td>\n",
              "      <td>46</td>\n",
              "    </tr>\n",
              "    <tr>\n",
              "      <th>95</th>\n",
              "      <td>31</td>\n",
              "      <td>Private</td>\n",
              "      <td>HS-grad</td>\n",
              "      <td>single</td>\n",
              "      <td>NaN</td>\n",
              "      <td>30</td>\n",
              "      <td>N</td>\n",
              "      <td>46</td>\n",
              "    </tr>\n",
              "    <tr>\n",
              "      <th>46</th>\n",
              "      <td>22</td>\n",
              "      <td>Private</td>\n",
              "      <td>Some-college</td>\n",
              "      <td>married</td>\n",
              "      <td>M</td>\n",
              "      <td>24.0</td>\n",
              "      <td>N</td>\n",
              "      <td>47</td>\n",
              "    </tr>\n",
              "    <tr>\n",
              "      <th>96</th>\n",
              "      <td>22</td>\n",
              "      <td>Private</td>\n",
              "      <td>Some-college</td>\n",
              "      <td>married</td>\n",
              "      <td>M</td>\n",
              "      <td>24</td>\n",
              "      <td>N</td>\n",
              "      <td>47</td>\n",
              "    </tr>\n",
              "    <tr>\n",
              "      <th>47</th>\n",
              "      <td>36</td>\n",
              "      <td>Private</td>\n",
              "      <td>HS-grad</td>\n",
              "      <td>widowed</td>\n",
              "      <td>F</td>\n",
              "      <td>24.0</td>\n",
              "      <td>N</td>\n",
              "      <td>48</td>\n",
              "    </tr>\n",
              "    <tr>\n",
              "      <th>97</th>\n",
              "      <td>NaN</td>\n",
              "      <td>Private</td>\n",
              "      <td>HS-grad</td>\n",
              "      <td>widowed</td>\n",
              "      <td>F</td>\n",
              "      <td>24</td>\n",
              "      <td>N</td>\n",
              "      <td>48</td>\n",
              "    </tr>\n",
              "    <tr>\n",
              "      <th>48</th>\n",
              "      <td>64</td>\n",
              "      <td>Private</td>\n",
              "      <td>11th</td>\n",
              "      <td>married</td>\n",
              "      <td>M</td>\n",
              "      <td>40.0</td>\n",
              "      <td>N</td>\n",
              "      <td>49</td>\n",
              "    </tr>\n",
              "    <tr>\n",
              "      <th>98</th>\n",
              "      <td>64</td>\n",
              "      <td>Private</td>\n",
              "      <td>11th</td>\n",
              "      <td>married</td>\n",
              "      <td>M</td>\n",
              "      <td>40</td>\n",
              "      <td>N</td>\n",
              "      <td>49</td>\n",
              "    </tr>\n",
              "    <tr>\n",
              "      <th>49</th>\n",
              "      <td>43</td>\n",
              "      <td>NaN</td>\n",
              "      <td>Some-college</td>\n",
              "      <td>divorced</td>\n",
              "      <td>F</td>\n",
              "      <td>40.0</td>\n",
              "      <td>N</td>\n",
              "      <td>50</td>\n",
              "    </tr>\n",
              "    <tr>\n",
              "      <th>99</th>\n",
              "      <td>43</td>\n",
              "      <td>Federal-gov</td>\n",
              "      <td>Some-college</td>\n",
              "      <td>divorced</td>\n",
              "      <td>F</td>\n",
              "      <td>40</td>\n",
              "      <td>N</td>\n",
              "      <td>50</td>\n",
              "    </tr>\n",
              "  </tbody>\n",
              "</table>\n",
              "</div>"
            ],
            "text/plain": [
              "    age    workclass     education marital-status  sex hours-per-week class  \\\n",
              "44   70      Private  Some-college         single    M           40.0     N   \n",
              "94   70      Private  Some-college         single    M             40     N   \n",
              "45   31      Private       HS-grad         single    F           30.0     N   \n",
              "95   31      Private       HS-grad         single  NaN             30     N   \n",
              "46   22      Private  Some-college        married    M           24.0     N   \n",
              "96   22      Private  Some-college        married    M             24     N   \n",
              "47   36      Private       HS-grad        widowed    F           24.0     N   \n",
              "97  NaN      Private       HS-grad        widowed    F             24     N   \n",
              "48   64      Private          11th        married    M           40.0     N   \n",
              "98   64      Private          11th        married    M             40     N   \n",
              "49   43          NaN  Some-college       divorced    F           40.0     N   \n",
              "99   43  Federal-gov  Some-college       divorced    F             40     N   \n",
              "\n",
              "    id  \n",
              "44  45  \n",
              "94  45  \n",
              "45  46  \n",
              "95  46  \n",
              "46  47  \n",
              "96  47  \n",
              "47  48  \n",
              "97  48  \n",
              "48  49  \n",
              "98  49  \n",
              "49  50  \n",
              "99  50  "
            ]
          },
          "execution_count": 99,
          "metadata": {},
          "output_type": "execute_result"
        }
      ],
      "source": [
        "# Transformer le champs \"id\" à un entier\n",
        "adult34[\"id\"] = pd.to_numeric(adult34[\"id\"], downcast=\"integer\")\n",
        "# Ordonner la table en se basant sur les valeurs de \"id\"\n",
        "adult34 = adult34.sort_values(by=\"id\")\n",
        "\n",
        "# L'opération que vous devez deviner (une opération de vérification)\n",
        "red = adult34[adult34.duplicated(\"id\", keep=False)]\n",
        "red"
      ]
    },
    {
      "cell_type": "markdown",
      "id": "31a01085",
      "metadata": {
        "id": "31a01085"
      },
      "source": [
        "**Analyse** \n",
        "- Quelle opération a-t-on appliqué ?\n",
        "- Pourquoi ? (Quel est l'intérêt ?)\n",
        "\n",
        "**Réponse**\n",
        "- Affichage des champs ayant les mêmes identifiants (individus dupliqués) ordonnés selon leurs ids\n",
        "- Pour identifier la redonance d'une même instance de données (le mème individu dupliqué) ainsi que les champs inexistants NaN en comparants entre les dupliqués d'une même instance. Par la suite, cette identification permet de ne garder qu'une seule instance par individu."
      ]
    },
    {
      "cell_type": "code",
      "execution_count": null,
      "id": "0da75dc6",
      "metadata": {
        "id": "0da75dc6",
        "outputId": "956909f8-a48a-4881-ccd5-5cb838cb1e95"
      },
      "outputs": [
        {
          "data": {
            "text/html": [
              "<div>\n",
              "<style scoped>\n",
              "    .dataframe tbody tr th:only-of-type {\n",
              "        vertical-align: middle;\n",
              "    }\n",
              "\n",
              "    .dataframe tbody tr th {\n",
              "        vertical-align: top;\n",
              "    }\n",
              "\n",
              "    .dataframe thead th {\n",
              "        text-align: right;\n",
              "    }\n",
              "</style>\n",
              "<table border=\"1\" class=\"dataframe\">\n",
              "  <thead>\n",
              "    <tr style=\"text-align: right;\">\n",
              "      <th></th>\n",
              "      <th>age</th>\n",
              "      <th>workclass</th>\n",
              "      <th>education</th>\n",
              "      <th>marital-status</th>\n",
              "      <th>sex</th>\n",
              "      <th>hours-per-week</th>\n",
              "      <th>class</th>\n",
              "      <th>id</th>\n",
              "    </tr>\n",
              "  </thead>\n",
              "  <tbody>\n",
              "    <tr>\n",
              "      <th>44</th>\n",
              "      <td>70</td>\n",
              "      <td>Private</td>\n",
              "      <td>Some-college</td>\n",
              "      <td>single</td>\n",
              "      <td>M</td>\n",
              "      <td>40.0</td>\n",
              "      <td>N</td>\n",
              "      <td>45</td>\n",
              "    </tr>\n",
              "    <tr>\n",
              "      <th>94</th>\n",
              "      <td>70</td>\n",
              "      <td>Private</td>\n",
              "      <td>Some-college</td>\n",
              "      <td>single</td>\n",
              "      <td>M</td>\n",
              "      <td>40</td>\n",
              "      <td>N</td>\n",
              "      <td>45</td>\n",
              "    </tr>\n",
              "    <tr>\n",
              "      <th>45</th>\n",
              "      <td>31</td>\n",
              "      <td>Private</td>\n",
              "      <td>HS-grad</td>\n",
              "      <td>single</td>\n",
              "      <td>F</td>\n",
              "      <td>30.0</td>\n",
              "      <td>N</td>\n",
              "      <td>46</td>\n",
              "    </tr>\n",
              "    <tr>\n",
              "      <th>95</th>\n",
              "      <td>31</td>\n",
              "      <td>Private</td>\n",
              "      <td>HS-grad</td>\n",
              "      <td>single</td>\n",
              "      <td>F</td>\n",
              "      <td>30</td>\n",
              "      <td>N</td>\n",
              "      <td>46</td>\n",
              "    </tr>\n",
              "    <tr>\n",
              "      <th>46</th>\n",
              "      <td>22</td>\n",
              "      <td>Private</td>\n",
              "      <td>Some-college</td>\n",
              "      <td>married</td>\n",
              "      <td>M</td>\n",
              "      <td>24.0</td>\n",
              "      <td>N</td>\n",
              "      <td>47</td>\n",
              "    </tr>\n",
              "    <tr>\n",
              "      <th>96</th>\n",
              "      <td>22</td>\n",
              "      <td>Private</td>\n",
              "      <td>Some-college</td>\n",
              "      <td>married</td>\n",
              "      <td>M</td>\n",
              "      <td>24</td>\n",
              "      <td>N</td>\n",
              "      <td>47</td>\n",
              "    </tr>\n",
              "    <tr>\n",
              "      <th>47</th>\n",
              "      <td>36</td>\n",
              "      <td>Private</td>\n",
              "      <td>HS-grad</td>\n",
              "      <td>widowed</td>\n",
              "      <td>F</td>\n",
              "      <td>24.0</td>\n",
              "      <td>N</td>\n",
              "      <td>48</td>\n",
              "    </tr>\n",
              "    <tr>\n",
              "      <th>97</th>\n",
              "      <td>36</td>\n",
              "      <td>Private</td>\n",
              "      <td>HS-grad</td>\n",
              "      <td>widowed</td>\n",
              "      <td>F</td>\n",
              "      <td>24</td>\n",
              "      <td>N</td>\n",
              "      <td>48</td>\n",
              "    </tr>\n",
              "    <tr>\n",
              "      <th>48</th>\n",
              "      <td>64</td>\n",
              "      <td>Private</td>\n",
              "      <td>11th</td>\n",
              "      <td>married</td>\n",
              "      <td>M</td>\n",
              "      <td>40.0</td>\n",
              "      <td>N</td>\n",
              "      <td>49</td>\n",
              "    </tr>\n",
              "    <tr>\n",
              "      <th>98</th>\n",
              "      <td>64</td>\n",
              "      <td>Private</td>\n",
              "      <td>11th</td>\n",
              "      <td>married</td>\n",
              "      <td>M</td>\n",
              "      <td>40</td>\n",
              "      <td>N</td>\n",
              "      <td>49</td>\n",
              "    </tr>\n",
              "    <tr>\n",
              "      <th>49</th>\n",
              "      <td>43</td>\n",
              "      <td>Federal-gov</td>\n",
              "      <td>Some-college</td>\n",
              "      <td>divorced</td>\n",
              "      <td>F</td>\n",
              "      <td>40.0</td>\n",
              "      <td>N</td>\n",
              "      <td>50</td>\n",
              "    </tr>\n",
              "    <tr>\n",
              "      <th>99</th>\n",
              "      <td>43</td>\n",
              "      <td>Federal-gov</td>\n",
              "      <td>Some-college</td>\n",
              "      <td>divorced</td>\n",
              "      <td>F</td>\n",
              "      <td>40</td>\n",
              "      <td>N</td>\n",
              "      <td>50</td>\n",
              "    </tr>\n",
              "  </tbody>\n",
              "</table>\n",
              "</div>"
            ],
            "text/plain": [
              "   age    workclass     education marital-status sex hours-per-week class  id\n",
              "44  70      Private  Some-college         single   M           40.0     N  45\n",
              "94  70      Private  Some-college         single   M             40     N  45\n",
              "45  31      Private       HS-grad         single   F           30.0     N  46\n",
              "95  31      Private       HS-grad         single   F             30     N  46\n",
              "46  22      Private  Some-college        married   M           24.0     N  47\n",
              "96  22      Private  Some-college        married   M             24     N  47\n",
              "47  36      Private       HS-grad        widowed   F           24.0     N  48\n",
              "97  36      Private       HS-grad        widowed   F             24     N  48\n",
              "48  64      Private          11th        married   M           40.0     N  49\n",
              "98  64      Private          11th        married   M             40     N  49\n",
              "49  43  Federal-gov  Some-college       divorced   F           40.0     N  50\n",
              "99  43  Federal-gov  Some-college       divorced   F             40     N  50"
            ]
          },
          "execution_count": 100,
          "metadata": {},
          "output_type": "execute_result"
        }
      ],
      "source": [
        "# Il y a un problème avec cette forme\n",
        "# en attendant qu'il soit réglé\n",
        "#adult34 = adult34.groupby(\"id\").ffill()\n",
        "\n",
        "adult34.update(adult34.groupby(['id']).ffill())\n",
        "adult34.update(adult34.groupby(['id']).bfill())\n",
        "\n",
        "# L'opération de vérification précédente\n",
        "red = adult34[adult34.duplicated(\"id\", keep=False)]\n",
        "red"
      ]
    },
    {
      "cell_type": "markdown",
      "id": "3e0889d1",
      "metadata": {
        "id": "3e0889d1"
      },
      "source": [
        "**Analyse** \n",
        "- Quelle opération a-t-on appliqué ?\n",
        "- Pourquoi ? (Quel est l'intérêt ?)\n",
        "\n",
        "**Réponse**\n",
        "- Remplissage des données manquantes NaN : comme le GroupBy va regrouper les dupliqués ensemble, appliquer un forward fill permet de remplir le champ NaN d'une colonne selon les cases précédentes sauf les premiers NaN rencontrés dans une colonne, c'est là où le backward fill va remplir les premières cases NaN par les suivantes.\n",
        "\n",
        "- Pour régler le problème d'incohérence de données, et avoir un dataset plus précis et volumineux au lieu de supprimer les individus ayant de champs manquants. Graçe à la détection de la duplication d'individus, on peut remplir les champs manquants pour une analyse statistique plus correcte."
      ]
    },
    {
      "cell_type": "code",
      "execution_count": null,
      "id": "fcfd9a0a",
      "metadata": {
        "id": "fcfd9a0a",
        "outputId": "2cc59dcd-fb9f-42cd-d03e-f71da5c04c65"
      },
      "outputs": [
        {
          "data": {
            "text/html": [
              "<div>\n",
              "<style scoped>\n",
              "    .dataframe tbody tr th:only-of-type {\n",
              "        vertical-align: middle;\n",
              "    }\n",
              "\n",
              "    .dataframe tbody tr th {\n",
              "        vertical-align: top;\n",
              "    }\n",
              "\n",
              "    .dataframe thead th {\n",
              "        text-align: right;\n",
              "    }\n",
              "</style>\n",
              "<table border=\"1\" class=\"dataframe\">\n",
              "  <thead>\n",
              "    <tr style=\"text-align: right;\">\n",
              "      <th></th>\n",
              "      <th>age</th>\n",
              "      <th>workclass</th>\n",
              "      <th>education</th>\n",
              "      <th>marital-status</th>\n",
              "      <th>sex</th>\n",
              "      <th>hours-per-week</th>\n",
              "      <th>class</th>\n",
              "      <th>id</th>\n",
              "    </tr>\n",
              "  </thead>\n",
              "  <tbody>\n",
              "  </tbody>\n",
              "</table>\n",
              "</div>"
            ],
            "text/plain": [
              "Empty DataFrame\n",
              "Columns: [age, workclass, education, marital-status, sex, hours-per-week, class, id]\n",
              "Index: []"
            ]
          },
          "execution_count": 101,
          "metadata": {},
          "output_type": "execute_result"
        }
      ],
      "source": [
        "adult34.drop_duplicates(\"id\", keep=\"last\", inplace=True)\n",
        "\n",
        "# On refait la même opération précédente\n",
        "red = adult34[adult34.duplicated(\"id\", keep=False)]\n",
        "red"
      ]
    },
    {
      "cell_type": "markdown",
      "id": "ac8c4341",
      "metadata": {
        "id": "ac8c4341"
      },
      "source": [
        "**Analyse** \n",
        "- Quelle opération a-t-on appliqué ?\n",
        "- Pourquoi ? (Quel est l'intérêt ?)\n",
        "\n",
        "**Réponse**\n",
        "- Supprimer les individus dupliqués et ne garder que la dernière occurence d'une instance de données dupliquée.\n",
        "- Pour éliminer la redondance de données qui impace l'analyse statistique, car le même individu sera représenté plusieurs fois. Elle peut causer des poids disproportionnées lors de l'entraînement du modèle. La duplication de lignes peut également fausser les résultats d'un modèle car le dataset sera divisé en dataset: entraînement, validation et tests, et les données dupliquées peuvent être reparties sur les trois. D'où l'obtention d'un modèle biaisé et de mauvaises performances aprés deploiement, malgré le fait que l'evaluation du modèle l'a jugé efficace à cause de la duplication d'entrées."
      ]
    },
    {
      "cell_type": "code",
      "execution_count": null,
      "id": "c9942837",
      "metadata": {
        "id": "c9942837",
        "outputId": "d1ed59f2-4c0b-4353-af23-9411ff5c8792"
      },
      "outputs": [
        {
          "data": {
            "text/plain": [
              "['age',\n",
              " 'workclass',\n",
              " 'education',\n",
              " 'marital-status',\n",
              " 'sex',\n",
              " 'hours-per-week',\n",
              " 'class',\n",
              " 'occupation']"
            ]
          },
          "execution_count": 102,
          "metadata": {},
          "output_type": "execute_result"
        }
      ],
      "source": [
        "list(adult1.columns)"
      ]
    },
    {
      "cell_type": "code",
      "execution_count": null,
      "id": "ff9d6799",
      "metadata": {
        "id": "ff9d6799",
        "outputId": "274c496d-a230-4551-b559-19a9ffe5ffb4"
      },
      "outputs": [
        {
          "data": {
            "text/plain": [
              "['age',\n",
              " 'workclass',\n",
              " 'education',\n",
              " 'marital-status',\n",
              " 'sex',\n",
              " 'hours-per-week',\n",
              " 'class']"
            ]
          },
          "execution_count": 103,
          "metadata": {},
          "output_type": "execute_result"
        }
      ],
      "source": [
        "adult1.drop([\"occupation\"], axis=1, inplace=True)\n",
        "adult34.drop([\"id\"], axis=1, inplace=True)\n",
        "\n",
        "list(adult1.columns)"
      ]
    },
    {
      "cell_type": "markdown",
      "id": "7bd863b5",
      "metadata": {
        "id": "7bd863b5"
      },
      "source": [
        "**Analyse** \n",
        "- Quelle opération a-t-on appliqué ?\n",
        "- Pourquoi ? (Quel est l'intérêt ?)\n",
        "\n",
        "**Réponse**\n",
        "- Suppression des colonnes non communes entre les quatres tables.\n",
        "- Pour préparer les tables à une autre concaténation en unifiant les schémas des quatre tables. Ceci permet de nettoyer la structure des données et faciliter l'apprentissage."
      ]
    },
    {
      "cell_type": "code",
      "execution_count": null,
      "id": "b0562378",
      "metadata": {
        "id": "b0562378",
        "outputId": "18d6e612-aac0-4199-e7f7-35f5083e0e6e"
      },
      "outputs": [
        {
          "data": {
            "text/plain": [
              "array(['Never-married', 'Married-civ-spouse', 'Divorced', nan,\n",
              "       'Married-spouse-absent', 'Separated', 'Married-AF-spouse'],\n",
              "      dtype=object)"
            ]
          },
          "execution_count": 104,
          "metadata": {},
          "output_type": "execute_result"
        }
      ],
      "source": [
        "# les différentes valeurs du colonne adult1.marital-status\n",
        "adult1[\"marital-status\"].unique()"
      ]
    },
    {
      "cell_type": "code",
      "execution_count": null,
      "id": "3e15df2d",
      "metadata": {
        "id": "3e15df2d",
        "outputId": "509972b4-9870-408c-d090-fab0325f0d68"
      },
      "outputs": [
        {
          "data": {
            "text/plain": [
              "array(['single', 'married', 'divorced', nan], dtype=object)"
            ]
          },
          "execution_count": 105,
          "metadata": {},
          "output_type": "execute_result"
        }
      ],
      "source": [
        "dic = {\n",
        "    \"Never-married\": \"single\",\n",
        "    \"Married-civ-spouse\": \"married\",\n",
        "    \"Married-spouse-absent\": \"married\",\n",
        "    \"Married-AF-spouse\": \"married\",\n",
        "    \"Divorced\": \"divorced\",\n",
        "    \"Separated\": \"divorced\",\n",
        "    \"Widowed\": \"widowed\"\n",
        "}\n",
        "adult1[\"marital-status\"] = adult1[\"marital-status\"].map(dic)\n",
        "adult2[\"marital-status\"] = adult2[\"marital-status\"].map(dic)\n",
        "\n",
        "# les différentes valeurs du colonne adult1.marital-status après mappage\n",
        "adult1[\"marital-status\"].unique()"
      ]
    },
    {
      "cell_type": "markdown",
      "id": "ccd81277",
      "metadata": {
        "id": "ccd81277"
      },
      "source": [
        "**Analyse** \n",
        "- Quelle opération a-t-on appliqué ?\n",
        "- Pourquoi ? (Quel est l'intérêt ?)\n",
        "\n",
        "**Réponse**\n",
        "- Unification des valeurs de la variable qualitative marital-status qui representes le même concept avec un dictionnaire Python.\n",
        "- Pour unifier les noms de classes des variables catégorielles communes entre les tables. Cette unification des valeurs des catégories résout le phénomène des conflits de valeurs, regroupe les valeurs qui represetent le même concept, et reduit également le nombre de catégories d'une variable. Ceci permet d'améliorer les performances du modèle car ses entrées seront cohérentes."
      ]
    },
    {
      "cell_type": "code",
      "execution_count": null,
      "id": "cb1d00fb",
      "metadata": {
        "id": "cb1d00fb",
        "outputId": "a2765215-7603-4504-efdd-d0326d71fa1b"
      },
      "outputs": [
        {
          "data": {
            "text/plain": [
              "(194, 7)"
            ]
          },
          "execution_count": 106,
          "metadata": {},
          "output_type": "execute_result"
        }
      ],
      "source": [
        "# On va appliquer la même opération sur d'autres caractéristiques\n",
        "adult1[\"sex\"] = adult1[\"sex\"].map({\"Female\": \"F\", \"Male\": \"M\"})\n",
        "adult1[\"class\"] = adult1[\"class\"].map({\"<=50K\": \"N\", \">50K\": \"Y\"})\n",
        "\n",
        "# Ensuite, on fusionne les tables dans une seule\n",
        "adult = pd.concat([adult1, adult2, adult34], ignore_index=True)\n",
        "\n",
        "# dimension de la table adult\n",
        "adult.shape"
      ]
    },
    {
      "cell_type": "markdown",
      "id": "cde7f137",
      "metadata": {
        "id": "cde7f137"
      },
      "source": [
        "### II.3. Nétoyage des données\n",
        "\n",
        "Ici, on va appliquer des opérations de nétoyage. C'est à vous de déviner quelle opération a-t-on utilisé et pourqoi.\n"
      ]
    },
    {
      "cell_type": "code",
      "execution_count": null,
      "id": "8595785f",
      "metadata": {
        "id": "8595785f",
        "outputId": "e652c09a-0648-4d51-8a4f-b72f500173bb"
      },
      "outputs": [
        {
          "data": {
            "text/plain": [
              "age                5\n",
              "workclass         10\n",
              "education          1\n",
              "marital-status     4\n",
              "sex                2\n",
              "hours-per-week     2\n",
              "class              0\n",
              "dtype: int64"
            ]
          },
          "execution_count": 107,
          "metadata": {},
          "output_type": "execute_result"
        }
      ],
      "source": [
        "# Afficher le nombre des valeurs nulles dans chaque colonne\n",
        "adult.isnull().sum()"
      ]
    },
    {
      "cell_type": "code",
      "execution_count": null,
      "id": "39c8f04b",
      "metadata": {
        "id": "39c8f04b",
        "outputId": "95f04f66-b1f6-4293-a8dd-30b98b386e3a"
      },
      "outputs": [
        {
          "data": {
            "text/plain": [
              "age               3\n",
              "workclass         0\n",
              "education         0\n",
              "marital-status    0\n",
              "sex               0\n",
              "hours-per-week    0\n",
              "class             0\n",
              "dtype: int64"
            ]
          },
          "execution_count": 108,
          "metadata": {},
          "output_type": "execute_result"
        }
      ],
      "source": [
        "adult.dropna(subset=[\"workclass\", \"education\", \"marital-status\", \"sex\", \"hours-per-week\", \"class\"], inplace=True)\n",
        "adult.isnull().sum()"
      ]
    },
    {
      "cell_type": "markdown",
      "id": "8e3d7475",
      "metadata": {
        "id": "8e3d7475"
      },
      "source": [
        "**Analyse** \n",
        "- Quelle opération a-t-on appliqué ?\n",
        "- Pourquoi ? (Quel est l'intérêt ?)\n",
        "\n",
        "**Réponse**\n",
        "- Suppression des lignes qui contiennent des valeurs nulles pour au moins une des colonnes: \"workclass\", \"education\", \"marital-status\", \"sex\", \"hours-per-week\", \"class\".\n",
        "- Plusieurs models de machine learning ne fonctionnent pas avec des données manquantes. De plus, ça peut construire des modèles biaisés ce qui va conduire à des résultats faussés. L'analyse statistique peut manquer de précision à cause du manque de données (NaN)."
      ]
    },
    {
      "cell_type": "code",
      "execution_count": null,
      "id": "e58fa7de",
      "metadata": {
        "id": "e58fa7de",
        "outputId": "f567b4ce-56d3-45c6-ccdc-85409a299b9e"
      },
      "outputs": [
        {
          "data": {
            "text/plain": [
              "age               0\n",
              "workclass         0\n",
              "education         0\n",
              "marital-status    0\n",
              "sex               0\n",
              "hours-per-week    0\n",
              "class             0\n",
              "dtype: int64"
            ]
          },
          "execution_count": 109,
          "metadata": {},
          "output_type": "execute_result"
        }
      ],
      "source": [
        "adult[\"age\"] = pd.to_numeric(adult[\"age\"])\n",
        "adult[\"age\"] = adult.groupby([\"class\", \"education\"])[\"age\"].transform(lambda x: x.fillna(int(round(x.mean()))))\n",
        "adult.isnull().sum()"
      ]
    },
    {
      "cell_type": "markdown",
      "id": "f237fece",
      "metadata": {
        "id": "f237fece"
      },
      "source": [
        "**Analyse** \n",
        "- Quelle opération a-t-on appliqué ?\n",
        "- Pourquoi ? (Quel est l'intérêt ?)\n",
        "\n",
        "**Réponse**\n",
        "- Remplacer les valeurs NaN de \"age\" pour chaque ligne avec la moyenne de l'age des individus ayant la même classe et education. (Constante selon la classe de l'individu)\n",
        "- Comme cité précedemment, on traite les valeurs manquantes pour les mèmes raisons, cependant au lieu de les supprimer, on les remplace par la moyenne des ages des individus appartenant a une catégorie (classe et education) semblant avoir un age localement plus rapproché que la moyenne globale. Le remplaçement par une constante telque la moyenne n'impacte pas la variable et permet de ne pas refaire le calcul (ou dans notre cas recontacter l'individu pour demander son age) qui est une tâche fastidueuse, et ça permet de ne pas perdre les valeurs des autres attributs de cet individu parce qu'on ne le supprime pas à cause de la valeur manquante."
      ]
    },
    {
      "cell_type": "markdown",
      "id": "fdb47fb3",
      "metadata": {
        "id": "fdb47fb3"
      },
      "source": [
        "### II.4. Transformation des données"
      ]
    },
    {
      "cell_type": "code",
      "execution_count": null,
      "id": "38278ca9",
      "metadata": {
        "id": "38278ca9",
        "outputId": "1ecf2247-331c-42c4-e909-fdd75986d8d9"
      },
      "outputs": [
        {
          "data": {
            "text/plain": [
              "0    Bachelors\n",
              "1    Bachelors\n",
              "2      HS-grad\n",
              "4    Bachelors\n",
              "5      Masters\n",
              "6          9th\n",
              "Name: education, dtype: object"
            ]
          },
          "execution_count": 110,
          "metadata": {},
          "output_type": "execute_result"
        }
      ],
      "source": [
        "adult[\"education\"].head(6)"
      ]
    },
    {
      "cell_type": "code",
      "execution_count": null,
      "id": "4cf4dba5",
      "metadata": {
        "id": "4cf4dba5",
        "outputId": "ae105c3f-9fe3-4078-b712-91b849cf8ec1"
      },
      "outputs": [
        {
          "data": {
            "text/plain": [
              "array([[6.],\n",
              "       [6.],\n",
              "       [8.],\n",
              "       [6.],\n",
              "       [9.],\n",
              "       [3.]])"
            ]
          },
          "execution_count": 111,
          "metadata": {},
          "output_type": "execute_result"
        }
      ],
      "source": [
        "from sklearn.preprocessing import OrdinalEncoder\n",
        "ord_enc = OrdinalEncoder()\n",
        "# le résultat c'est un numpy.ndarray\n",
        "education_enc = ord_enc.fit_transform(adult[[\"education\"]])\n",
        "education_enc[:6,]"
      ]
    },
    {
      "cell_type": "markdown",
      "id": "bb5a7ebb",
      "metadata": {
        "id": "bb5a7ebb"
      },
      "source": [
        "**Analyse** \n",
        "- Quel est le type d'encodage utilisé ?\n",
        "- A votre avis, dans quel cas peut-on utiliser ce type d'encodage ?\n",
        "\n",
        "**Réponse**\n",
        "- Encodage ordinal\n",
        "- Quand les valeurs d'une variable qualitative peuvent être ordonnées (c'est une variable ordinale), on opte pour l'encodage ordinal pour garder la relation d'ordre et permettre au modèle de mieux l'apprendre. Pour ce cas, une relation d'ordre existe entre les niveau de scolarisation (licence, master, lycée..)"
      ]
    },
    {
      "cell_type": "code",
      "execution_count": null,
      "id": "1a7a2980",
      "metadata": {
        "id": "1a7a2980",
        "outputId": "18d5670d-879a-4da4-aa2c-2677cb774b89"
      },
      "outputs": [
        {
          "data": {
            "text/plain": [
              "0    M\n",
              "1    M\n",
              "2    M\n",
              "4    F\n",
              "5    F\n",
              "6    F\n",
              "Name: sex, dtype: object"
            ]
          },
          "execution_count": 112,
          "metadata": {},
          "output_type": "execute_result"
        }
      ],
      "source": [
        "adult[\"sex\"].head(6)"
      ]
    },
    {
      "cell_type": "code",
      "execution_count": null,
      "id": "9bb8987b",
      "metadata": {
        "id": "9bb8987b",
        "outputId": "ad07ea00-b52f-4f73-9943-a7fb9ebaaa10"
      },
      "outputs": [
        {
          "data": {
            "text/plain": [
              "array([[0., 1.],\n",
              "       [0., 1.],\n",
              "       [0., 1.],\n",
              "       [1., 0.],\n",
              "       [1., 0.],\n",
              "       [1., 0.]])"
            ]
          },
          "execution_count": 113,
          "metadata": {},
          "output_type": "execute_result"
        }
      ],
      "source": [
        "from sklearn.preprocessing import OneHotEncoder\n",
        "onehot_enc = OneHotEncoder()\n",
        "# le résultat c'est un numpy.ndarray\n",
        "sex_enc = onehot_enc.fit_transform(adult[[\"sex\"]])\n",
        "sex_enc.toarray()[:6,]"
      ]
    },
    {
      "cell_type": "markdown",
      "id": "50946472",
      "metadata": {
        "id": "50946472"
      },
      "source": [
        "**Analyse** \n",
        "- Quel est le type d'encodage utilisé ?\n",
        "- A votre avis, dans quel cas peut-on utiliser ce type d'encodage ?\n",
        "\n",
        "**Réponse**\n",
        "- Encodage OneHot\n",
        "- Pour le cas d'une variable qualitative sans relation d'ordre, l'encodage Ordinal fausse les résultats du modèle en créant des inférences qui ne doivent pas exister à cause de la relation d'ordre qu'il impose. D'où la nécessité d'utiliser l'encodage OneHot qui n'impose rien aucune relation d'ordre sur les catégories."
      ]
    },
    {
      "cell_type": "code",
      "execution_count": null,
      "id": "c86b4e21",
      "metadata": {
        "id": "c86b4e21",
        "outputId": "951fe195-00b0-4b04-b000-935d83984470"
      },
      "outputs": [
        {
          "data": {
            "text/plain": [
              "0    40.0\n",
              "1    13.0\n",
              "2    40.0\n",
              "Name: hours-per-week, dtype: float64"
            ]
          },
          "execution_count": 114,
          "metadata": {},
          "output_type": "execute_result"
        }
      ],
      "source": [
        "adult[\"hours-per-week\"] = pd.to_numeric(adult[\"hours-per-week\"])\n",
        "adult[\"hours-per-week\"].head(3)"
      ]
    },
    {
      "cell_type": "code",
      "execution_count": null,
      "id": "0fcba4ea",
      "metadata": {
        "id": "0fcba4ea",
        "outputId": "2415b9a9-a1ad-4d14-8828-8f6574529d0a"
      },
      "outputs": [
        {
          "data": {
            "text/plain": [
              "array([[0.49367089],\n",
              "       [0.15189873],\n",
              "       [0.49367089]])"
            ]
          },
          "execution_count": 115,
          "metadata": {},
          "output_type": "execute_result"
        }
      ],
      "source": [
        "from sklearn.preprocessing import MinMaxScaler\n",
        "\n",
        "min_max_scaler = MinMaxScaler()\n",
        "# le résultat c'est un numpy.ndarray\n",
        "hours_per_week_prop = min_max_scaler.fit_transform(adult[[\"hours-per-week\"]])\n",
        "hours_per_week_prop[:3,]"
      ]
    },
    {
      "cell_type": "code",
      "execution_count": null,
      "id": "5be3df27",
      "metadata": {
        "id": "5be3df27",
        "outputId": "1d96e711-86aa-4ef5-9e21-6d5cb2e53973"
      },
      "outputs": [
        {
          "data": {
            "text/html": [
              "<div>\n",
              "<style scoped>\n",
              "    .dataframe tbody tr th:only-of-type {\n",
              "        vertical-align: middle;\n",
              "    }\n",
              "\n",
              "    .dataframe tbody tr th {\n",
              "        vertical-align: top;\n",
              "    }\n",
              "\n",
              "    .dataframe thead th {\n",
              "        text-align: right;\n",
              "    }\n",
              "</style>\n",
              "<table border=\"1\" class=\"dataframe\">\n",
              "  <thead>\n",
              "    <tr style=\"text-align: right;\">\n",
              "      <th></th>\n",
              "      <th>age</th>\n",
              "      <th>workclass</th>\n",
              "      <th>education</th>\n",
              "      <th>marital-status</th>\n",
              "      <th>sex</th>\n",
              "      <th>hours-per-week</th>\n",
              "      <th>class</th>\n",
              "      <th>hours-per-week-prop</th>\n",
              "    </tr>\n",
              "  </thead>\n",
              "  <tbody>\n",
              "    <tr>\n",
              "      <th>0</th>\n",
              "      <td>39.0</td>\n",
              "      <td>State-gov</td>\n",
              "      <td>Bachelors</td>\n",
              "      <td>single</td>\n",
              "      <td>M</td>\n",
              "      <td>40.0</td>\n",
              "      <td>N</td>\n",
              "      <td>0.493671</td>\n",
              "    </tr>\n",
              "    <tr>\n",
              "      <th>1</th>\n",
              "      <td>50.0</td>\n",
              "      <td>Self-emp-not-inc</td>\n",
              "      <td>Bachelors</td>\n",
              "      <td>married</td>\n",
              "      <td>M</td>\n",
              "      <td>13.0</td>\n",
              "      <td>N</td>\n",
              "      <td>0.151899</td>\n",
              "    </tr>\n",
              "    <tr>\n",
              "      <th>2</th>\n",
              "      <td>38.0</td>\n",
              "      <td>Private</td>\n",
              "      <td>HS-grad</td>\n",
              "      <td>divorced</td>\n",
              "      <td>M</td>\n",
              "      <td>40.0</td>\n",
              "      <td>N</td>\n",
              "      <td>0.493671</td>\n",
              "    </tr>\n",
              "  </tbody>\n",
              "</table>\n",
              "</div>"
            ],
            "text/plain": [
              "    age         workclass  education marital-status sex  hours-per-week class  \\\n",
              "0  39.0         State-gov  Bachelors         single   M            40.0     N   \n",
              "1  50.0  Self-emp-not-inc  Bachelors        married   M            13.0     N   \n",
              "2  38.0           Private    HS-grad       divorced   M            40.0     N   \n",
              "\n",
              "   hours-per-week-prop  \n",
              "0             0.493671  \n",
              "1             0.151899  \n",
              "2             0.493671  "
            ]
          },
          "execution_count": 116,
          "metadata": {},
          "output_type": "execute_result"
        }
      ],
      "source": [
        "# pour ajouter la nouvelle caractéristique au dataframe\n",
        "adult[\"hours-per-week-prop\"] = hours_per_week_prop\n",
        "adult.head(3)"
      ]
    },
    {
      "cell_type": "markdown",
      "id": "bfa5f9d8",
      "metadata": {
        "id": "bfa5f9d8"
      },
      "source": [
        "**Analyse** \n",
        "- Comment la normalisation MinMax est calculée ?\n",
        "- Décrire les valeurs résultats (plage de valeurs, etc.) ?\n",
        "- Est-ce que les valeurs du dataset de test sont garanties d'être dans la plage ?\n",
        "- Si oui, expliquer pouruoi. Si non, comment garantir la plage des valeurs ?\n",
        "\n",
        "**Réponse**\n",
        "- Formule de MinMax: $minmax(X_j) = \\frac{X_j - min(X_j)}{max(X_j) - min(X_j)}$ On soustrait le min et on divise par la difference entre le max et le min (la taille de l'intervalle des valeurs)\n",
        "- Plage de valeurs: [0,1] de réels, avec 6 chiffres aprés la virgule (avec la representation de pandas). Cette méthode ne change pas la distribution des données dont l'effet des bruits n'est pas attenué et ils doivent être traités séparements.\n",
        "- Non, elles ne sont pas garanties d'être dans la plage. Il se peut qu'une des valeurs de test soit supérieure au max ou inférieure au min.\n",
        "- Pour garantir la plage des valeurs, il faut utiliser le max et min théoriques de la variable hours-per-week et non pas ceux du dataset de l'entraînement. Le min sera donc 0 hours-per-week, et le max sera 24*7 hours-per-week."
      ]
    },
    {
      "cell_type": "code",
      "execution_count": null,
      "id": "04c42c4e",
      "metadata": {
        "id": "04c42c4e",
        "outputId": "fe93323d-46ab-4dc8-c654-17b3df6e8741"
      },
      "outputs": [
        {
          "data": {
            "text/plain": [
              "0    39.0\n",
              "1    50.0\n",
              "2    38.0\n",
              "Name: age, dtype: float64"
            ]
          },
          "execution_count": 117,
          "metadata": {},
          "output_type": "execute_result"
        }
      ],
      "source": [
        "adult[\"age\"].head(3)"
      ]
    },
    {
      "cell_type": "code",
      "execution_count": null,
      "id": "a1235410",
      "metadata": {
        "id": "a1235410",
        "outputId": "9bb2a942-2914-478f-ddd4-73abcbcf6fb3"
      },
      "outputs": [
        {
          "data": {
            "text/plain": [
              "array([[ 0.111269  ],\n",
              "       [ 0.99962632],\n",
              "       [ 0.03050924],\n",
              "       [-0.77708832],\n",
              "       [-0.05025052]])"
            ]
          },
          "execution_count": 118,
          "metadata": {},
          "output_type": "execute_result"
        }
      ],
      "source": [
        "from sklearn.preprocessing import StandardScaler\n",
        "\n",
        "std_scaler = StandardScaler()\n",
        "# le résultat c'est un numpy.ndarray\n",
        "age_normal = std_scaler.fit_transform(adult[[\"age\"]])\n",
        "age_normal[:5,]"
      ]
    },
    {
      "cell_type": "markdown",
      "id": "38be4b39",
      "metadata": {
        "id": "38be4b39"
      },
      "source": [
        "**Analyse** \n",
        "- Comment la normalisation standard est calculée ?\n",
        "- Décrire les valeurs résultats (plage de valeurs, etc.) ?\n",
        "\n",
        "**Réponse**\n",
        "- La formule de normalisation Standard: $standard(X_j) = \\frac{X_j - \\mu(X_j)}{\\sigma(X_j)}$ , On soustrait la moyenne et on divise par l'écart type.\n",
        "- Les valeurs sont de type réel, 8 chiffres aprés la virgule (selon la représentation de pandas), sans bornes. Sachant que la variable centrée reduite suit une distribution normale N[0;1]: 68.2% des valeurs seront entre -1 et 1; 95.4% des valeurs seront entre -2 et 2; et 99.7% des valeurs seront entre -3 et 3...\n",
        "De plus cette méthode reduit l'effet des bruits (on change la distribution de la variable)"
      ]
    },
    {
      "cell_type": "code",
      "execution_count": null,
      "id": "712f1f36",
      "metadata": {
        "id": "712f1f36",
        "outputId": "93d7b8af-1c09-4241-d673-969d47cbdac6"
      },
      "outputs": [
        {
          "data": {
            "text/plain": [
              "0     39.0\n",
              "1     50.0\n",
              "2     38.0\n",
              "4     28.0\n",
              "5     37.0\n",
              "6     49.0\n",
              "7     52.0\n",
              "8     31.0\n",
              "9     42.0\n",
              "10    43.0\n",
              "Name: age, dtype: float64"
            ]
          },
          "execution_count": 119,
          "metadata": {},
          "output_type": "execute_result"
        }
      ],
      "source": [
        "adult[\"age\"].head(10)"
      ]
    },
    {
      "cell_type": "code",
      "execution_count": null,
      "id": "ac2de190",
      "metadata": {
        "id": "ac2de190",
        "outputId": "e9885dc2-3752-4ae8-fbb8-ec43532fd04a"
      },
      "outputs": [
        {
          "data": {
            "text/plain": [
              "array([[0.],\n",
              "       [1.],\n",
              "       [0.],\n",
              "       [0.],\n",
              "       [0.],\n",
              "       [1.],\n",
              "       [1.],\n",
              "       [0.],\n",
              "       [1.],\n",
              "       [1.]])"
            ]
          },
          "execution_count": 120,
          "metadata": {},
          "output_type": "execute_result"
        }
      ],
      "source": [
        "from sklearn.preprocessing import Binarizer\n",
        "\n",
        "binarizer = Binarizer(threshold=40)\n",
        "# le résultat c'est un numpy.ndarray\n",
        "age_bin = binarizer.fit_transform(adult[[\"age\"]])\n",
        "age_bin[:10,]"
      ]
    },
    {
      "cell_type": "markdown",
      "id": "16d52fc1",
      "metadata": {
        "id": "16d52fc1"
      },
      "source": [
        "**Analyse** \n",
        "- Quelle est l'opération appliquée ici ?\n",
        "- Quel est son rôle ?\n",
        "\n",
        "**Réponse**\n",
        "- l'Encodage Binary sur la colonne d'age, si c'est supérieur à 40 on met 1, et 0 sinon\n",
        "- Cet encodage est utile quand les détails de la valeur d'une variable n'importent pas mais juste qu'elle soit en dessous ou en dessus d'un seuil donné. Elle est simple à implementer, et ne consomme pas beaucoup de mémoire, réduit considerablement la plage/cardinal de valeurs et réduit le nombre de dimensions par rapport au OneHot encoding mais on perd de l'information."
      ]
    }
  ],
  "metadata": {
    "kernelspec": {
      "display_name": "Python 3.9.13 64-bit (microsoft store)",
      "language": "python",
      "name": "python3"
    },
    "language_info": {
      "codemirror_mode": {
        "name": "ipython",
        "version": 3
      },
      "file_extension": ".py",
      "mimetype": "text/x-python",
      "name": "python",
      "nbconvert_exporter": "python",
      "pygments_lexer": "ipython3",
      "version": "3.9.13"
    },
    "vscode": {
      "interpreter": {
        "hash": "56049e3926c42813b206d891219af30b49be883852fa9ab508a6c25c5466268c"
      }
    },
    "colab": {
      "provenance": []
    }
  },
  "nbformat": 4,
  "nbformat_minor": 5
}